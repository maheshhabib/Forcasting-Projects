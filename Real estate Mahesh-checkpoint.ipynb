{
 "cells": [
  {
   "cell_type": "code",
   "execution_count": 14,
   "id": "abf16f1f",
   "metadata": {},
   "outputs": [],
   "source": [
    "import pandas as pd\n",
    "import numpy as np\n",
    "import statsmodels.api as sm\n",
    "from sklearn.model_selection import train_test_split"
   ]
  },
  {
   "cell_type": "code",
   "execution_count": 15,
   "id": "f62794e8",
   "metadata": {},
   "outputs": [],
   "source": [
    "real=pd.read_csv('Real Estate.csv')"
   ]
  },
  {
   "cell_type": "code",
   "execution_count": 16,
   "id": "ded4a42d",
   "metadata": {},
   "outputs": [
    {
     "name": "stdout",
     "output_type": "stream",
     "text": [
      "<class 'pandas.core.frame.DataFrame'>\n",
      "RangeIndex: 15 entries, 0 to 14\n",
      "Data columns (total 5 columns):\n",
      " #   Column       Non-Null Count  Dtype\n",
      "---  ------       --------------  -----\n",
      " 0   Sale price   15 non-null     int64\n",
      " 1   Square feet  15 non-null     int64\n",
      " 2   Floors       15 non-null     int64\n",
      " 3   Bathrooms    15 non-null     int64\n",
      " 4   Bedrooms     15 non-null     int64\n",
      "dtypes: int64(5)\n",
      "memory usage: 728.0 bytes\n"
     ]
    }
   ],
   "source": [
    "real.info()"
   ]
  },
  {
   "cell_type": "code",
   "execution_count": 17,
   "id": "9d3e700a",
   "metadata": {},
   "outputs": [
    {
     "data": {
      "text/html": [
       "<div>\n",
       "<style scoped>\n",
       "    .dataframe tbody tr th:only-of-type {\n",
       "        vertical-align: middle;\n",
       "    }\n",
       "\n",
       "    .dataframe tbody tr th {\n",
       "        vertical-align: top;\n",
       "    }\n",
       "\n",
       "    .dataframe thead th {\n",
       "        text-align: right;\n",
       "    }\n",
       "</style>\n",
       "<table border=\"1\" class=\"dataframe\">\n",
       "  <thead>\n",
       "    <tr style=\"text-align: right;\">\n",
       "      <th></th>\n",
       "      <th>Sale price</th>\n",
       "      <th>Square feet</th>\n",
       "      <th>Floors</th>\n",
       "      <th>Bathrooms</th>\n",
       "      <th>Bedrooms</th>\n",
       "    </tr>\n",
       "  </thead>\n",
       "  <tbody>\n",
       "    <tr>\n",
       "      <th>0</th>\n",
       "      <td>2930</td>\n",
       "      <td>800</td>\n",
       "      <td>1</td>\n",
       "      <td>1</td>\n",
       "      <td>1</td>\n",
       "    </tr>\n",
       "    <tr>\n",
       "      <th>1</th>\n",
       "      <td>5280</td>\n",
       "      <td>950</td>\n",
       "      <td>1</td>\n",
       "      <td>1</td>\n",
       "      <td>1</td>\n",
       "    </tr>\n",
       "    <tr>\n",
       "      <th>2</th>\n",
       "      <td>4720</td>\n",
       "      <td>850</td>\n",
       "      <td>1</td>\n",
       "      <td>2</td>\n",
       "      <td>1</td>\n",
       "    </tr>\n",
       "    <tr>\n",
       "      <th>3</th>\n",
       "      <td>6720</td>\n",
       "      <td>1200</td>\n",
       "      <td>1</td>\n",
       "      <td>2</td>\n",
       "      <td>2</td>\n",
       "    </tr>\n",
       "  </tbody>\n",
       "</table>\n",
       "</div>"
      ],
      "text/plain": [
       "   Sale price  Square feet  Floors  Bathrooms  Bedrooms\n",
       "0        2930          800       1          1         1\n",
       "1        5280          950       1          1         1\n",
       "2        4720          850       1          2         1\n",
       "3        6720         1200       1          2         2"
      ]
     },
     "execution_count": 17,
     "metadata": {},
     "output_type": "execute_result"
    }
   ],
   "source": [
    "real.head(4)"
   ]
  },
  {
   "cell_type": "code",
   "execution_count": 18,
   "id": "65ab75ff",
   "metadata": {},
   "outputs": [],
   "source": [
    "X_features=['Sale price', 'Square feet','Floors','Bathrooms','Bedrooms']"
   ]
  },
  {
   "cell_type": "code",
   "execution_count": 19,
   "id": "dbbe6741",
   "metadata": {},
   "outputs": [],
   "source": [
    "categorical_features=['Floors','Bathrooms','Bedrooms']"
   ]
  },
  {
   "cell_type": "code",
   "execution_count": 20,
   "id": "406a46b6",
   "metadata": {},
   "outputs": [],
   "source": [
    "real_estate=pd.get_dummies(real[X_features], columns=categorical_features, drop_first=True)"
   ]
  },
  {
   "cell_type": "code",
   "execution_count": 21,
   "id": "9b22a7c4",
   "metadata": {},
   "outputs": [
    {
     "data": {
      "text/plain": [
       "Index(['Sale price', 'Square feet', 'Floors_2', 'Floors_3', 'Bathrooms_2',\n",
       "       'Bathrooms_3', 'Bedrooms_2', 'Bedrooms_3', 'Bedrooms_4'],\n",
       "      dtype='object')"
      ]
     },
     "execution_count": 21,
     "metadata": {},
     "output_type": "execute_result"
    }
   ],
   "source": [
    "real_estate.columns"
   ]
  },
  {
   "cell_type": "code",
   "execution_count": 22,
   "id": "55d2fcfd",
   "metadata": {},
   "outputs": [],
   "source": [
    "mlrX=sm.add_constant(real_estate)\n",
    "mlrY=real['Sale price']"
   ]
  },
  {
   "cell_type": "code",
   "execution_count": 29,
   "id": "0acabb6b",
   "metadata": {},
   "outputs": [],
   "source": [
    "MLRtrain_X, MLRtest_X, MLRtrain_Y, MLRtest_Y=train_test_split(mlrX,mlrY, train_size=0.8,random_state=42)"
   ]
  },
  {
   "cell_type": "code",
   "execution_count": 30,
   "id": "fa677ffe",
   "metadata": {},
   "outputs": [],
   "source": [
    "real_MLRmodel=sm.OLS(MLRtrain_Y,MLRtrain_X).fit()"
   ]
  },
  {
   "cell_type": "code",
   "execution_count": 31,
   "id": "28fa6335",
   "metadata": {},
   "outputs": [
    {
     "name": "stderr",
     "output_type": "stream",
     "text": [
      "C:\\Users\\Shilpa Habib\\anaconda3\\lib\\site-packages\\scipy\\stats\\_stats_py.py:1736: UserWarning: kurtosistest only valid for n>=20 ... continuing anyway, n=12\n",
      "  warnings.warn(\"kurtosistest only valid for n>=20 ... continuing \"\n"
     ]
    },
    {
     "data": {
      "text/html": [
       "<table class=\"simpletable\">\n",
       "<caption>OLS Regression Results</caption>\n",
       "<tr>\n",
       "  <th>Dep. Variable:</th>       <td>Sale price</td>    <th>  R-squared:         </th> <td>   1.000</td> \n",
       "</tr>\n",
       "<tr>\n",
       "  <th>Model:</th>                   <td>OLS</td>       <th>  Adj. R-squared:    </th> <td>   1.000</td> \n",
       "</tr>\n",
       "<tr>\n",
       "  <th>Method:</th>             <td>Least Squares</td>  <th>  F-statistic:       </th> <td>4.072e+28</td>\n",
       "</tr>\n",
       "<tr>\n",
       "  <th>Date:</th>             <td>Tue, 05 Dec 2023</td> <th>  Prob (F-statistic):</th> <td>2.46e-29</td> \n",
       "</tr>\n",
       "<tr>\n",
       "  <th>Time:</th>                 <td>11:26:44</td>     <th>  Log-Likelihood:    </th> <td>  300.82</td> \n",
       "</tr>\n",
       "<tr>\n",
       "  <th>No. Observations:</th>      <td>    12</td>      <th>  AIC:               </th> <td>  -581.6</td> \n",
       "</tr>\n",
       "<tr>\n",
       "  <th>Df Residuals:</th>          <td>     2</td>      <th>  BIC:               </th> <td>  -576.8</td> \n",
       "</tr>\n",
       "<tr>\n",
       "  <th>Df Model:</th>              <td>     9</td>      <th>                     </th>     <td> </td>    \n",
       "</tr>\n",
       "<tr>\n",
       "  <th>Covariance Type:</th>      <td>nonrobust</td>    <th>                     </th>     <td> </td>    \n",
       "</tr>\n",
       "</table>\n",
       "<table class=\"simpletable\">\n",
       "<tr>\n",
       "       <td></td>          <th>coef</th>     <th>std err</th>      <th>t</th>      <th>P>|t|</th>  <th>[0.025</th>    <th>0.975]</th>  \n",
       "</tr>\n",
       "<tr>\n",
       "  <th>const</th>       <td> 2.728e-12</td> <td> 3.32e-11</td> <td>    0.082</td> <td> 0.942</td> <td> -1.4e-10</td> <td> 1.46e-10</td>\n",
       "</tr>\n",
       "<tr>\n",
       "  <th>Sale price</th>  <td>    1.0000</td> <td> 6.55e-15</td> <td> 1.53e+14</td> <td> 0.000</td> <td>    1.000</td> <td>    1.000</td>\n",
       "</tr>\n",
       "<tr>\n",
       "  <th>Square feet</th> <td>         0</td> <td> 1.32e-14</td> <td>        0</td> <td> 1.000</td> <td>-5.67e-14</td> <td> 5.67e-14</td>\n",
       "</tr>\n",
       "<tr>\n",
       "  <th>Floors_2</th>    <td>         0</td> <td> 1.14e-11</td> <td>        0</td> <td> 1.000</td> <td>-4.92e-11</td> <td> 4.92e-11</td>\n",
       "</tr>\n",
       "<tr>\n",
       "  <th>Floors_3</th>    <td> 9.095e-13</td> <td> 2.22e-11</td> <td>    0.041</td> <td> 0.971</td> <td>-9.48e-11</td> <td> 9.66e-11</td>\n",
       "</tr>\n",
       "<tr>\n",
       "  <th>Bathrooms_2</th> <td>-3.638e-12</td> <td> 7.39e-12</td> <td>   -0.492</td> <td> 0.671</td> <td>-3.54e-11</td> <td> 2.82e-11</td>\n",
       "</tr>\n",
       "<tr>\n",
       "  <th>Bathrooms_3</th> <td>-2.274e-12</td> <td> 1.41e-11</td> <td>   -0.161</td> <td> 0.887</td> <td>-6.31e-11</td> <td> 5.86e-11</td>\n",
       "</tr>\n",
       "<tr>\n",
       "  <th>Bedrooms_2</th>  <td>-9.095e-13</td> <td> 9.16e-12</td> <td>   -0.099</td> <td> 0.930</td> <td>-4.03e-11</td> <td> 3.85e-11</td>\n",
       "</tr>\n",
       "<tr>\n",
       "  <th>Bedrooms_3</th>  <td>-1.819e-12</td> <td> 1.55e-11</td> <td>   -0.117</td> <td> 0.917</td> <td>-6.87e-11</td> <td>  6.5e-11</td>\n",
       "</tr>\n",
       "<tr>\n",
       "  <th>Bedrooms_4</th>  <td> 3.638e-12</td> <td> 2.19e-11</td> <td>    0.166</td> <td> 0.883</td> <td>-9.06e-11</td> <td> 9.79e-11</td>\n",
       "</tr>\n",
       "</table>\n",
       "<table class=\"simpletable\">\n",
       "<tr>\n",
       "  <th>Omnibus:</th>       <td> 3.036</td> <th>  Durbin-Watson:     </th> <td>   1.007</td>\n",
       "</tr>\n",
       "<tr>\n",
       "  <th>Prob(Omnibus):</th> <td> 0.219</td> <th>  Jarque-Bera (JB):  </th> <td>   2.122</td>\n",
       "</tr>\n",
       "<tr>\n",
       "  <th>Skew:</th>          <td>-0.951</td> <th>  Prob(JB):          </th> <td>   0.346</td>\n",
       "</tr>\n",
       "<tr>\n",
       "  <th>Kurtosis:</th>      <td> 2.211</td> <th>  Cond. No.          </th> <td>1.35e+05</td>\n",
       "</tr>\n",
       "</table><br/><br/>Notes:<br/>[1] Standard Errors assume that the covariance matrix of the errors is correctly specified.<br/>[2] The condition number is large, 1.35e+05. This might indicate that there are<br/>strong multicollinearity or other numerical problems."
      ],
      "text/plain": [
       "<class 'statsmodels.iolib.summary.Summary'>\n",
       "\"\"\"\n",
       "                            OLS Regression Results                            \n",
       "==============================================================================\n",
       "Dep. Variable:             Sale price   R-squared:                       1.000\n",
       "Model:                            OLS   Adj. R-squared:                  1.000\n",
       "Method:                 Least Squares   F-statistic:                 4.072e+28\n",
       "Date:                Tue, 05 Dec 2023   Prob (F-statistic):           2.46e-29\n",
       "Time:                        11:26:44   Log-Likelihood:                 300.82\n",
       "No. Observations:                  12   AIC:                            -581.6\n",
       "Df Residuals:                       2   BIC:                            -576.8\n",
       "Df Model:                           9                                         \n",
       "Covariance Type:            nonrobust                                         \n",
       "===============================================================================\n",
       "                  coef    std err          t      P>|t|      [0.025      0.975]\n",
       "-------------------------------------------------------------------------------\n",
       "const        2.728e-12   3.32e-11      0.082      0.942    -1.4e-10    1.46e-10\n",
       "Sale price      1.0000   6.55e-15   1.53e+14      0.000       1.000       1.000\n",
       "Square feet          0   1.32e-14          0      1.000   -5.67e-14    5.67e-14\n",
       "Floors_2             0   1.14e-11          0      1.000   -4.92e-11    4.92e-11\n",
       "Floors_3     9.095e-13   2.22e-11      0.041      0.971   -9.48e-11    9.66e-11\n",
       "Bathrooms_2 -3.638e-12   7.39e-12     -0.492      0.671   -3.54e-11    2.82e-11\n",
       "Bathrooms_3 -2.274e-12   1.41e-11     -0.161      0.887   -6.31e-11    5.86e-11\n",
       "Bedrooms_2  -9.095e-13   9.16e-12     -0.099      0.930   -4.03e-11    3.85e-11\n",
       "Bedrooms_3  -1.819e-12   1.55e-11     -0.117      0.917   -6.87e-11     6.5e-11\n",
       "Bedrooms_4   3.638e-12   2.19e-11      0.166      0.883   -9.06e-11    9.79e-11\n",
       "==============================================================================\n",
       "Omnibus:                        3.036   Durbin-Watson:                   1.007\n",
       "Prob(Omnibus):                  0.219   Jarque-Bera (JB):                2.122\n",
       "Skew:                          -0.951   Prob(JB):                        0.346\n",
       "Kurtosis:                       2.211   Cond. No.                     1.35e+05\n",
       "==============================================================================\n",
       "\n",
       "Notes:\n",
       "[1] Standard Errors assume that the covariance matrix of the errors is correctly specified.\n",
       "[2] The condition number is large, 1.35e+05. This might indicate that there are\n",
       "strong multicollinearity or other numerical problems.\n",
       "\"\"\""
      ]
     },
     "execution_count": 31,
     "metadata": {},
     "output_type": "execute_result"
    }
   ],
   "source": [
    "real_MLRmodel.summary()"
   ]
  },
  {
   "cell_type": "code",
   "execution_count": 32,
   "id": "dabdd310",
   "metadata": {},
   "outputs": [
    {
     "data": {
      "text/plain": [
       "const          2.728484e-12\n",
       "Sale price     1.000000e+00\n",
       "Square feet    0.000000e+00\n",
       "Floors_2       0.000000e+00\n",
       "Floors_3       9.094947e-13\n",
       "Bathrooms_2   -3.637979e-12\n",
       "Bathrooms_3   -2.273737e-12\n",
       "Bedrooms_2    -9.094947e-13\n",
       "Bedrooms_3    -1.818989e-12\n",
       "Bedrooms_4     3.637979e-12\n",
       "dtype: float64"
      ]
     },
     "execution_count": 32,
     "metadata": {},
     "output_type": "execute_result"
    }
   ],
   "source": [
    "real_MLRmodel.params"
   ]
  },
  {
   "cell_type": "code",
   "execution_count": 33,
   "id": "3954d996",
   "metadata": {},
   "outputs": [],
   "source": [
    "MLRpredict_y=real_MLRmodel.predict(MLRtest_X[MLRtrain_X.columns])"
   ]
  },
  {
   "cell_type": "code",
   "execution_count": 34,
   "id": "e3c80f88",
   "metadata": {},
   "outputs": [],
   "source": [
    "from sklearn.metrics import mean_absolute_percentage_error"
   ]
  },
  {
   "cell_type": "code",
   "execution_count": 35,
   "id": "4910a24e",
   "metadata": {},
   "outputs": [
    {
     "data": {
      "text/plain": [
       "5.902831257459607e-16"
      ]
     },
     "execution_count": 35,
     "metadata": {},
     "output_type": "execute_result"
    }
   ],
   "source": [
    "np.abs(mean_absolute_percentage_error(MLRtest_Y, MLRpredict_y))"
   ]
  },
  {
   "cell_type": "code",
   "execution_count": null,
   "id": "399e9d90",
   "metadata": {},
   "outputs": [],
   "source": []
  }
 ],
 "metadata": {
  "kernelspec": {
   "display_name": "Python 3 (ipykernel)",
   "language": "python",
   "name": "python3"
  },
  "language_info": {
   "codemirror_mode": {
    "name": "ipython",
    "version": 3
   },
   "file_extension": ".py",
   "mimetype": "text/x-python",
   "name": "python",
   "nbconvert_exporter": "python",
   "pygments_lexer": "ipython3",
   "version": "3.10.9"
  }
 },
 "nbformat": 4,
 "nbformat_minor": 5
}
