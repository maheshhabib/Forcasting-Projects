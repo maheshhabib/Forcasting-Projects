{
 "cells": [
  {
   "cell_type": "code",
   "execution_count": 1,
   "id": "3bcf434e",
   "metadata": {},
   "outputs": [],
   "source": [
    "import pandas as pd\n",
    "import numpy as np\n",
    "import statsmodels.api as sm\n",
    "from sklearn.model_selection import train_test_split"
   ]
  },
  {
   "cell_type": "code",
   "execution_count": 15,
   "id": "a82b6070",
   "metadata": {},
   "outputs": [],
   "source": [
    "cook=pd.read_csv('Cookingrange.csv')"
   ]
  },
  {
   "cell_type": "code",
   "execution_count": 16,
   "id": "dee43357",
   "metadata": {},
   "outputs": [
    {
     "name": "stdout",
     "output_type": "stream",
     "text": [
      "<class 'pandas.core.frame.DataFrame'>\n",
      "RangeIndex: 400 entries, 0 to 399\n",
      "Data columns (total 11 columns):\n",
      " #   Column      Non-Null Count  Dtype \n",
      "---  ------      --------------  ----- \n",
      " 0   Sales       400 non-null    int64 \n",
      " 1   CompPrice   400 non-null    int64 \n",
      " 2   Income      400 non-null    int64 \n",
      " 3   Promotion   400 non-null    int64 \n",
      " 4   Population  400 non-null    int64 \n",
      " 5   Price       400 non-null    int64 \n",
      " 6   Display     400 non-null    object\n",
      " 7   Age         400 non-null    int64 \n",
      " 8   Education   400 non-null    int64 \n",
      " 9   Urban       400 non-null    object\n",
      " 10  Region      400 non-null    object\n",
      "dtypes: int64(8), object(3)\n",
      "memory usage: 34.5+ KB\n"
     ]
    }
   ],
   "source": [
    "cook.info()"
   ]
  },
  {
   "cell_type": "code",
   "execution_count": 18,
   "id": "83dbb641",
   "metadata": {},
   "outputs": [
    {
     "data": {
      "text/html": [
       "<div>\n",
       "<style scoped>\n",
       "    .dataframe tbody tr th:only-of-type {\n",
       "        vertical-align: middle;\n",
       "    }\n",
       "\n",
       "    .dataframe tbody tr th {\n",
       "        vertical-align: top;\n",
       "    }\n",
       "\n",
       "    .dataframe thead th {\n",
       "        text-align: right;\n",
       "    }\n",
       "</style>\n",
       "<table border=\"1\" class=\"dataframe\">\n",
       "  <thead>\n",
       "    <tr style=\"text-align: right;\">\n",
       "      <th></th>\n",
       "      <th>Sales</th>\n",
       "      <th>CompPrice</th>\n",
       "      <th>Income</th>\n",
       "      <th>Promotion</th>\n",
       "      <th>Population</th>\n",
       "      <th>Price</th>\n",
       "      <th>Display</th>\n",
       "      <th>Age</th>\n",
       "      <th>Education</th>\n",
       "      <th>Urban</th>\n",
       "      <th>Region</th>\n",
       "    </tr>\n",
       "  </thead>\n",
       "  <tbody>\n",
       "    <tr>\n",
       "      <th>0</th>\n",
       "      <td>95</td>\n",
       "      <td>1380</td>\n",
       "      <td>73</td>\n",
       "      <td>11</td>\n",
       "      <td>276</td>\n",
       "      <td>1200</td>\n",
       "      <td>Back</td>\n",
       "      <td>42</td>\n",
       "      <td>17</td>\n",
       "      <td>Urban</td>\n",
       "      <td>North</td>\n",
       "    </tr>\n",
       "    <tr>\n",
       "      <th>1</th>\n",
       "      <td>112</td>\n",
       "      <td>1110</td>\n",
       "      <td>48</td>\n",
       "      <td>16</td>\n",
       "      <td>260</td>\n",
       "      <td>830</td>\n",
       "      <td>Front</td>\n",
       "      <td>65</td>\n",
       "      <td>10</td>\n",
       "      <td>Urban</td>\n",
       "      <td>North</td>\n",
       "    </tr>\n",
       "    <tr>\n",
       "      <th>2</th>\n",
       "      <td>101</td>\n",
       "      <td>1130</td>\n",
       "      <td>35</td>\n",
       "      <td>10</td>\n",
       "      <td>269</td>\n",
       "      <td>800</td>\n",
       "      <td>Middle</td>\n",
       "      <td>59</td>\n",
       "      <td>12</td>\n",
       "      <td>Urban</td>\n",
       "      <td>North</td>\n",
       "    </tr>\n",
       "    <tr>\n",
       "      <th>3</th>\n",
       "      <td>74</td>\n",
       "      <td>1170</td>\n",
       "      <td>100</td>\n",
       "      <td>4</td>\n",
       "      <td>466</td>\n",
       "      <td>970</td>\n",
       "      <td>Middle</td>\n",
       "      <td>55</td>\n",
       "      <td>14</td>\n",
       "      <td>Urban</td>\n",
       "      <td>North</td>\n",
       "    </tr>\n",
       "  </tbody>\n",
       "</table>\n",
       "</div>"
      ],
      "text/plain": [
       "   Sales  CompPrice  Income  Promotion  Population  Price Display  Age  \\\n",
       "0     95       1380      73         11         276   1200    Back   42   \n",
       "1    112       1110      48         16         260    830  Front    65   \n",
       "2    101       1130      35         10         269    800  Middle   59   \n",
       "3     74       1170     100          4         466    970  Middle   55   \n",
       "\n",
       "   Education  Urban Region  \n",
       "0         17  Urban  North  \n",
       "1         10  Urban  North  \n",
       "2         12  Urban  North  \n",
       "3         14  Urban  North  "
      ]
     },
     "execution_count": 18,
     "metadata": {},
     "output_type": "execute_result"
    }
   ],
   "source": [
    "cook.head(4)"
   ]
  },
  {
   "cell_type": "code",
   "execution_count": 19,
   "id": "21230443",
   "metadata": {},
   "outputs": [],
   "source": [
    "X_features=['CompPrice', 'Income','Promotion','Population','Price','Display','Age','Education','Urban','Region']"
   ]
  },
  {
   "cell_type": "code",
   "execution_count": 21,
   "id": "d1d067d7",
   "metadata": {},
   "outputs": [],
   "source": [
    "categorical_features=['Display','Urban','Region']"
   ]
  },
  {
   "cell_type": "code",
   "execution_count": 23,
   "id": "7f5a28ed",
   "metadata": {},
   "outputs": [],
   "source": [
    "cook_encoded=pd.get_dummies(cook[X_features], columns=categorical_features, drop_first=True)"
   ]
  },
  {
   "cell_type": "code",
   "execution_count": 24,
   "id": "b42e9c7c",
   "metadata": {},
   "outputs": [
    {
     "data": {
      "text/plain": [
       "Index(['CompPrice', 'Income', 'Promotion', 'Population', 'Price', 'Age',\n",
       "       'Education', 'Display_Front ', 'Display_Middle', 'Urban_Urban',\n",
       "       'Region_South'],\n",
       "      dtype='object')"
      ]
     },
     "execution_count": 24,
     "metadata": {},
     "output_type": "execute_result"
    }
   ],
   "source": [
    "cook_encoded.columns"
   ]
  },
  {
   "cell_type": "code",
   "execution_count": 25,
   "id": "5d842343",
   "metadata": {},
   "outputs": [],
   "source": [
    "mlrX=sm.add_constant(cook_encoded)\n",
    "mlrY=cook['Sales']"
   ]
  },
  {
   "cell_type": "code",
   "execution_count": 26,
   "id": "076d8536",
   "metadata": {},
   "outputs": [],
   "source": [
    "MLRtrain_X, MLRtest_X, MLRtrain_Y, MLRtest_Y=train_test_split(mlrX,mlrY, train_size=0.8,random_state=42)"
   ]
  },
  {
   "cell_type": "code",
   "execution_count": 28,
   "id": "14972c1e",
   "metadata": {},
   "outputs": [],
   "source": [
    "cook_MLRmodel=sm.OLS(MLRtrain_Y,MLRtrain_X).fit()"
   ]
  },
  {
   "cell_type": "code",
   "execution_count": 29,
   "id": "9c45960a",
   "metadata": {},
   "outputs": [
    {
     "data": {
      "text/html": [
       "<table class=\"simpletable\">\n",
       "<caption>OLS Regression Results</caption>\n",
       "<tr>\n",
       "  <th>Dep. Variable:</th>          <td>Sales</td>      <th>  R-squared:         </th> <td>   0.866</td> \n",
       "</tr>\n",
       "<tr>\n",
       "  <th>Model:</th>                   <td>OLS</td>       <th>  Adj. R-squared:    </th> <td>   0.861</td> \n",
       "</tr>\n",
       "<tr>\n",
       "  <th>Method:</th>             <td>Least Squares</td>  <th>  F-statistic:       </th> <td>   180.7</td> \n",
       "</tr>\n",
       "<tr>\n",
       "  <th>Date:</th>             <td>Tue, 28 Nov 2023</td> <th>  Prob (F-statistic):</th> <td>3.46e-127</td>\n",
       "</tr>\n",
       "<tr>\n",
       "  <th>Time:</th>                 <td>20:26:26</td>     <th>  Log-Likelihood:    </th> <td> -1190.1</td> \n",
       "</tr>\n",
       "<tr>\n",
       "  <th>No. Observations:</th>      <td>   320</td>      <th>  AIC:               </th> <td>   2404.</td> \n",
       "</tr>\n",
       "<tr>\n",
       "  <th>Df Residuals:</th>          <td>   308</td>      <th>  BIC:               </th> <td>   2449.</td> \n",
       "</tr>\n",
       "<tr>\n",
       "  <th>Df Model:</th>              <td>    11</td>      <th>                     </th>     <td> </td>    \n",
       "</tr>\n",
       "<tr>\n",
       "  <th>Covariance Type:</th>      <td>nonrobust</td>    <th>                     </th>     <td> </td>    \n",
       "</tr>\n",
       "</table>\n",
       "<table class=\"simpletable\">\n",
       "<tr>\n",
       "         <td></td>           <th>coef</th>     <th>std err</th>      <th>t</th>      <th>P>|t|</th>  <th>[0.025</th>    <th>0.975]</th>  \n",
       "</tr>\n",
       "<tr>\n",
       "  <th>const</th>          <td>   59.7280</td> <td>    6.906</td> <td>    8.649</td> <td> 0.000</td> <td>   46.140</td> <td>   73.316</td>\n",
       "</tr>\n",
       "<tr>\n",
       "  <th>CompPrice</th>      <td>    0.0896</td> <td>    0.005</td> <td>   18.900</td> <td> 0.000</td> <td>    0.080</td> <td>    0.099</td>\n",
       "</tr>\n",
       "<tr>\n",
       "  <th>Income</th>         <td>    0.1501</td> <td>    0.021</td> <td>    7.322</td> <td> 0.000</td> <td>    0.110</td> <td>    0.190</td>\n",
       "</tr>\n",
       "<tr>\n",
       "  <th>Promotion</th>      <td>    1.2765</td> <td>    0.125</td> <td>   10.209</td> <td> 0.000</td> <td>    1.030</td> <td>    1.522</td>\n",
       "</tr>\n",
       "<tr>\n",
       "  <th>Population</th>     <td>    0.0021</td> <td>    0.004</td> <td>    0.494</td> <td> 0.622</td> <td>   -0.006</td> <td>    0.010</td>\n",
       "</tr>\n",
       "<tr>\n",
       "  <th>Price</th>          <td>   -0.0956</td> <td>    0.003</td> <td>  -30.931</td> <td> 0.000</td> <td>   -0.102</td> <td>   -0.089</td>\n",
       "</tr>\n",
       "<tr>\n",
       "  <th>Age</th>            <td>   -0.4816</td> <td>    0.035</td> <td>  -13.715</td> <td> 0.000</td> <td>   -0.551</td> <td>   -0.412</td>\n",
       "</tr>\n",
       "<tr>\n",
       "  <th>Education</th>      <td>   -0.2258</td> <td>    0.224</td> <td>   -1.007</td> <td> 0.315</td> <td>   -0.667</td> <td>    0.215</td>\n",
       "</tr>\n",
       "<tr>\n",
       "  <th>Display_Front </th> <td>   48.5503</td> <td>    1.752</td> <td>   27.707</td> <td> 0.000</td> <td>   45.102</td> <td>   51.998</td>\n",
       "</tr>\n",
       "<tr>\n",
       "  <th>Display_Middle</th> <td>   20.3625</td> <td>    1.411</td> <td>   14.431</td> <td> 0.000</td> <td>   17.586</td> <td>   23.139</td>\n",
       "</tr>\n",
       "<tr>\n",
       "  <th>Urban_Urban</th>    <td>    1.3290</td> <td>    1.269</td> <td>    1.047</td> <td> 0.296</td> <td>   -1.168</td> <td>    3.826</td>\n",
       "</tr>\n",
       "<tr>\n",
       "  <th>Region_South</th>   <td>    3.0136</td> <td>    1.668</td> <td>    1.807</td> <td> 0.072</td> <td>   -0.269</td> <td>    6.296</td>\n",
       "</tr>\n",
       "</table>\n",
       "<table class=\"simpletable\">\n",
       "<tr>\n",
       "  <th>Omnibus:</th>       <td> 0.278</td> <th>  Durbin-Watson:     </th> <td>   1.973</td>\n",
       "</tr>\n",
       "<tr>\n",
       "  <th>Prob(Omnibus):</th> <td> 0.870</td> <th>  Jarque-Bera (JB):  </th> <td>   0.173</td>\n",
       "</tr>\n",
       "<tr>\n",
       "  <th>Skew:</th>          <td> 0.053</td> <th>  Prob(JB):          </th> <td>   0.917</td>\n",
       "</tr>\n",
       "<tr>\n",
       "  <th>Kurtosis:</th>      <td> 3.042</td> <th>  Cond. No.          </th> <td>2.12e+04</td>\n",
       "</tr>\n",
       "</table><br/><br/>Notes:<br/>[1] Standard Errors assume that the covariance matrix of the errors is correctly specified.<br/>[2] The condition number is large, 2.12e+04. This might indicate that there are<br/>strong multicollinearity or other numerical problems."
      ],
      "text/latex": [
       "\\begin{center}\n",
       "\\begin{tabular}{lclc}\n",
       "\\toprule\n",
       "\\textbf{Dep. Variable:}    &      Sales       & \\textbf{  R-squared:         } &     0.866   \\\\\n",
       "\\textbf{Model:}            &       OLS        & \\textbf{  Adj. R-squared:    } &     0.861   \\\\\n",
       "\\textbf{Method:}           &  Least Squares   & \\textbf{  F-statistic:       } &     180.7   \\\\\n",
       "\\textbf{Date:}             & Tue, 28 Nov 2023 & \\textbf{  Prob (F-statistic):} & 3.46e-127   \\\\\n",
       "\\textbf{Time:}             &     20:26:26     & \\textbf{  Log-Likelihood:    } &   -1190.1   \\\\\n",
       "\\textbf{No. Observations:} &         320      & \\textbf{  AIC:               } &     2404.   \\\\\n",
       "\\textbf{Df Residuals:}     &         308      & \\textbf{  BIC:               } &     2449.   \\\\\n",
       "\\textbf{Df Model:}         &          11      & \\textbf{                     } &             \\\\\n",
       "\\textbf{Covariance Type:}  &    nonrobust     & \\textbf{                     } &             \\\\\n",
       "\\bottomrule\n",
       "\\end{tabular}\n",
       "\\begin{tabular}{lcccccc}\n",
       "                         & \\textbf{coef} & \\textbf{std err} & \\textbf{t} & \\textbf{P$> |$t$|$} & \\textbf{[0.025} & \\textbf{0.975]}  \\\\\n",
       "\\midrule\n",
       "\\textbf{const}           &      59.7280  &        6.906     &     8.649  &         0.000        &       46.140    &       73.316     \\\\\n",
       "\\textbf{CompPrice}       &       0.0896  &        0.005     &    18.900  &         0.000        &        0.080    &        0.099     \\\\\n",
       "\\textbf{Income}          &       0.1501  &        0.021     &     7.322  &         0.000        &        0.110    &        0.190     \\\\\n",
       "\\textbf{Promotion}       &       1.2765  &        0.125     &    10.209  &         0.000        &        1.030    &        1.522     \\\\\n",
       "\\textbf{Population}      &       0.0021  &        0.004     &     0.494  &         0.622        &       -0.006    &        0.010     \\\\\n",
       "\\textbf{Price}           &      -0.0956  &        0.003     &   -30.931  &         0.000        &       -0.102    &       -0.089     \\\\\n",
       "\\textbf{Age}             &      -0.4816  &        0.035     &   -13.715  &         0.000        &       -0.551    &       -0.412     \\\\\n",
       "\\textbf{Education}       &      -0.2258  &        0.224     &    -1.007  &         0.315        &       -0.667    &        0.215     \\\\\n",
       "\\textbf{Display\\_Front } &      48.5503  &        1.752     &    27.707  &         0.000        &       45.102    &       51.998     \\\\\n",
       "\\textbf{Display\\_Middle} &      20.3625  &        1.411     &    14.431  &         0.000        &       17.586    &       23.139     \\\\\n",
       "\\textbf{Urban\\_Urban}    &       1.3290  &        1.269     &     1.047  &         0.296        &       -1.168    &        3.826     \\\\\n",
       "\\textbf{Region\\_South}   &       3.0136  &        1.668     &     1.807  &         0.072        &       -0.269    &        6.296     \\\\\n",
       "\\bottomrule\n",
       "\\end{tabular}\n",
       "\\begin{tabular}{lclc}\n",
       "\\textbf{Omnibus:}       &  0.278 & \\textbf{  Durbin-Watson:     } &    1.973  \\\\\n",
       "\\textbf{Prob(Omnibus):} &  0.870 & \\textbf{  Jarque-Bera (JB):  } &    0.173  \\\\\n",
       "\\textbf{Skew:}          &  0.053 & \\textbf{  Prob(JB):          } &    0.917  \\\\\n",
       "\\textbf{Kurtosis:}      &  3.042 & \\textbf{  Cond. No.          } & 2.12e+04  \\\\\n",
       "\\bottomrule\n",
       "\\end{tabular}\n",
       "%\\caption{OLS Regression Results}\n",
       "\\end{center}\n",
       "\n",
       "Notes: \\newline\n",
       " [1] Standard Errors assume that the covariance matrix of the errors is correctly specified. \\newline\n",
       " [2] The condition number is large, 2.12e+04. This might indicate that there are \\newline\n",
       " strong multicollinearity or other numerical problems."
      ],
      "text/plain": [
       "<class 'statsmodels.iolib.summary.Summary'>\n",
       "\"\"\"\n",
       "                            OLS Regression Results                            \n",
       "==============================================================================\n",
       "Dep. Variable:                  Sales   R-squared:                       0.866\n",
       "Model:                            OLS   Adj. R-squared:                  0.861\n",
       "Method:                 Least Squares   F-statistic:                     180.7\n",
       "Date:                Tue, 28 Nov 2023   Prob (F-statistic):          3.46e-127\n",
       "Time:                        20:26:26   Log-Likelihood:                -1190.1\n",
       "No. Observations:                 320   AIC:                             2404.\n",
       "Df Residuals:                     308   BIC:                             2449.\n",
       "Df Model:                          11                                         \n",
       "Covariance Type:            nonrobust                                         \n",
       "==================================================================================\n",
       "                     coef    std err          t      P>|t|      [0.025      0.975]\n",
       "----------------------------------------------------------------------------------\n",
       "const             59.7280      6.906      8.649      0.000      46.140      73.316\n",
       "CompPrice          0.0896      0.005     18.900      0.000       0.080       0.099\n",
       "Income             0.1501      0.021      7.322      0.000       0.110       0.190\n",
       "Promotion          1.2765      0.125     10.209      0.000       1.030       1.522\n",
       "Population         0.0021      0.004      0.494      0.622      -0.006       0.010\n",
       "Price             -0.0956      0.003    -30.931      0.000      -0.102      -0.089\n",
       "Age               -0.4816      0.035    -13.715      0.000      -0.551      -0.412\n",
       "Education         -0.2258      0.224     -1.007      0.315      -0.667       0.215\n",
       "Display_Front     48.5503      1.752     27.707      0.000      45.102      51.998\n",
       "Display_Middle    20.3625      1.411     14.431      0.000      17.586      23.139\n",
       "Urban_Urban        1.3290      1.269      1.047      0.296      -1.168       3.826\n",
       "Region_South       3.0136      1.668      1.807      0.072      -0.269       6.296\n",
       "==============================================================================\n",
       "Omnibus:                        0.278   Durbin-Watson:                   1.973\n",
       "Prob(Omnibus):                  0.870   Jarque-Bera (JB):                0.173\n",
       "Skew:                           0.053   Prob(JB):                        0.917\n",
       "Kurtosis:                       3.042   Cond. No.                     2.12e+04\n",
       "==============================================================================\n",
       "\n",
       "Notes:\n",
       "[1] Standard Errors assume that the covariance matrix of the errors is correctly specified.\n",
       "[2] The condition number is large, 2.12e+04. This might indicate that there are\n",
       "strong multicollinearity or other numerical problems.\n",
       "\"\"\""
      ]
     },
     "execution_count": 29,
     "metadata": {},
     "output_type": "execute_result"
    }
   ],
   "source": [
    "cook_MLRmodel.summary()"
   ]
  },
  {
   "cell_type": "code",
   "execution_count": 30,
   "id": "798bbd90",
   "metadata": {},
   "outputs": [
    {
     "data": {
      "text/plain": [
       "const             59.728023\n",
       "CompPrice          0.089638\n",
       "Income             0.150109\n",
       "Promotion          1.276461\n",
       "Population         0.002068\n",
       "Price             -0.095569\n",
       "Age               -0.481550\n",
       "Education         -0.225766\n",
       "Display_Front     48.550330\n",
       "Display_Middle    20.362544\n",
       "Urban_Urban        1.328971\n",
       "Region_South       3.013553\n",
       "dtype: float64"
      ]
     },
     "execution_count": 30,
     "metadata": {},
     "output_type": "execute_result"
    }
   ],
   "source": [
    "cook_MLRmodel.params"
   ]
  },
  {
   "cell_type": "code",
   "execution_count": 31,
   "id": "ae444e1d",
   "metadata": {},
   "outputs": [],
   "source": [
    "MLRpredict_y=cook_MLRmodel.predict(MLRtest_X[MLRtrain_X.columns])"
   ]
  },
  {
   "cell_type": "code",
   "execution_count": 32,
   "id": "11c7e7f6",
   "metadata": {},
   "outputs": [],
   "source": [
    "from sklearn.metrics import mean_absolute_percentage_error"
   ]
  },
  {
   "cell_type": "code",
   "execution_count": 34,
   "id": "33ec4d21",
   "metadata": {},
   "outputs": [
    {
     "data": {
      "text/plain": [
       "0.12100297869585064"
      ]
     },
     "execution_count": 34,
     "metadata": {},
     "output_type": "execute_result"
    }
   ],
   "source": [
    "np.abs(mean_absolute_percentage_error(MLRtest_Y, MLRpredict_y))"
   ]
  },
  {
   "cell_type": "code",
   "execution_count": null,
   "id": "9fffcc83",
   "metadata": {},
   "outputs": [],
   "source": []
  }
 ],
 "metadata": {
  "kernelspec": {
   "display_name": "Python 3 (ipykernel)",
   "language": "python",
   "name": "python3"
  },
  "language_info": {
   "codemirror_mode": {
    "name": "ipython",
    "version": 3
   },
   "file_extension": ".py",
   "mimetype": "text/x-python",
   "name": "python",
   "nbconvert_exporter": "python",
   "pygments_lexer": "ipython3",
   "version": "3.10.9"
  }
 },
 "nbformat": 4,
 "nbformat_minor": 5
}
