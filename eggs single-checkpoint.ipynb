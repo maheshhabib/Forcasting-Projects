{
 "cells": [
  {
   "cell_type": "code",
   "execution_count": 3,
   "id": "5399e803",
   "metadata": {},
   "outputs": [],
   "source": [
    "import pandas as pd\n",
    "import numpy as np\n"
   ]
  },
  {
   "cell_type": "code",
   "execution_count": 4,
   "id": "cae4738e",
   "metadata": {},
   "outputs": [],
   "source": [
    "mr=pd.read_csv('eggs_single_exponential.csv')"
   ]
  },
  {
   "cell_type": "raw",
   "id": "72af3910",
   "metadata": {},
   "source": [
    "mr.info"
   ]
  },
  {
   "cell_type": "code",
   "execution_count": 5,
   "id": "95efbc37",
   "metadata": {},
   "outputs": [
    {
     "data": {
      "text/plain": [
       "[3,\n",
       " 2.9999999999999996,\n",
       " 3.5999999999999996,\n",
       " 4.619999999999999,\n",
       " 6.233999999999999]"
      ]
     },
     "execution_count": 5,
     "metadata": {},
     "output_type": "execute_result"
    }
   ],
   "source": [
    "y = [3, 5, 7, 10, 12]\n",
    "\n",
    "## Start with the first point\n",
    "forcast = [y[0]]\n",
    "alpha = .3\n",
    "\n",
    "for i in range(1, len(y)):\n",
    "    predict = alpha * y[i - 1] + (1 - alpha) * forcast[i - 1]\n",
    "    forcast.append(predict)\n",
    "\n",
    "forcast"
   ]
  },
  {
   "cell_type": "code",
   "execution_count": 6,
   "id": "2221aa30",
   "metadata": {},
   "outputs": [
    {
     "data": {
      "text/plain": [
       "5"
      ]
     },
     "execution_count": 6,
     "metadata": {},
     "output_type": "execute_result"
    }
   ],
   "source": [
    "len(y)"
   ]
  },
  {
   "cell_type": "code",
   "execution_count": 7,
   "id": "a8d17307",
   "metadata": {},
   "outputs": [
    {
     "data": {
      "text/plain": [
       "list"
      ]
     },
     "execution_count": 7,
     "metadata": {},
     "output_type": "execute_result"
    }
   ],
   "source": [
    "type(y)"
   ]
  },
  {
   "cell_type": "code",
   "execution_count": 10,
   "id": "0c1b9ca6",
   "metadata": {},
   "outputs": [],
   "source": [
    "a=forcast"
   ]
  },
  {
   "cell_type": "code",
   "execution_count": 11,
   "id": "6722d5e9",
   "metadata": {},
   "outputs": [
    {
     "data": {
      "text/plain": [
       "[3,\n",
       " 2.9999999999999996,\n",
       " 3.5999999999999996,\n",
       " 4.619999999999999,\n",
       " 6.233999999999999]"
      ]
     },
     "execution_count": 11,
     "metadata": {},
     "output_type": "execute_result"
    }
   ],
   "source": [
    "a"
   ]
  },
  {
   "cell_type": "code",
   "execution_count": 12,
   "id": "9b0efcb5",
   "metadata": {},
   "outputs": [],
   "source": [
    "mr=pd.read_csv('eggs_single_exponential.csv')"
   ]
  },
  {
   "cell_type": "code",
   "execution_count": 13,
   "id": "dcd2b708",
   "metadata": {},
   "outputs": [],
   "source": [
    "y=[mr]"
   ]
  },
  {
   "cell_type": "code",
   "execution_count": 14,
   "id": "af8622b0",
   "metadata": {},
   "outputs": [
    {
     "data": {
      "text/plain": [
       "list"
      ]
     },
     "execution_count": 14,
     "metadata": {},
     "output_type": "execute_result"
    }
   ],
   "source": [
    "type(y)"
   ]
  },
  {
   "cell_type": "code",
   "execution_count": 15,
   "id": "cba2dbde",
   "metadata": {},
   "outputs": [
    {
     "data": {
      "text/plain": [
       "[     Eggs_Sold\n",
       " 0        300.0\n",
       " 1        450.0\n",
       " 2        538.0\n",
       " 3        756.0\n",
       " 4        875.0\n",
       " ..         ...\n",
       " 129    19075.0\n",
       " 130    19220.6\n",
       " 131    19366.2\n",
       " 132    19511.8\n",
       " 133    19657.4\n",
       " \n",
       " [134 rows x 1 columns]]"
      ]
     },
     "execution_count": 15,
     "metadata": {},
     "output_type": "execute_result"
    }
   ],
   "source": [
    "y"
   ]
  },
  {
   "cell_type": "code",
   "execution_count": 16,
   "id": "40ce4cf1",
   "metadata": {},
   "outputs": [],
   "source": [
    "y1=pd.DataFrame(mr,columns=['Eggs_Sold'])"
   ]
  },
  {
   "cell_type": "code",
   "execution_count": 17,
   "id": "3b1e6f68",
   "metadata": {},
   "outputs": [
    {
     "data": {
      "text/html": [
       "<div>\n",
       "<style scoped>\n",
       "    .dataframe tbody tr th:only-of-type {\n",
       "        vertical-align: middle;\n",
       "    }\n",
       "\n",
       "    .dataframe tbody tr th {\n",
       "        vertical-align: top;\n",
       "    }\n",
       "\n",
       "    .dataframe thead th {\n",
       "        text-align: right;\n",
       "    }\n",
       "</style>\n",
       "<table border=\"1\" class=\"dataframe\">\n",
       "  <thead>\n",
       "    <tr style=\"text-align: right;\">\n",
       "      <th></th>\n",
       "      <th>Eggs_Sold</th>\n",
       "    </tr>\n",
       "  </thead>\n",
       "  <tbody>\n",
       "    <tr>\n",
       "      <th>0</th>\n",
       "      <td>300.0</td>\n",
       "    </tr>\n",
       "    <tr>\n",
       "      <th>1</th>\n",
       "      <td>450.0</td>\n",
       "    </tr>\n",
       "    <tr>\n",
       "      <th>2</th>\n",
       "      <td>538.0</td>\n",
       "    </tr>\n",
       "    <tr>\n",
       "      <th>3</th>\n",
       "      <td>756.0</td>\n",
       "    </tr>\n",
       "    <tr>\n",
       "      <th>4</th>\n",
       "      <td>875.0</td>\n",
       "    </tr>\n",
       "    <tr>\n",
       "      <th>...</th>\n",
       "      <td>...</td>\n",
       "    </tr>\n",
       "    <tr>\n",
       "      <th>129</th>\n",
       "      <td>19075.0</td>\n",
       "    </tr>\n",
       "    <tr>\n",
       "      <th>130</th>\n",
       "      <td>19220.6</td>\n",
       "    </tr>\n",
       "    <tr>\n",
       "      <th>131</th>\n",
       "      <td>19366.2</td>\n",
       "    </tr>\n",
       "    <tr>\n",
       "      <th>132</th>\n",
       "      <td>19511.8</td>\n",
       "    </tr>\n",
       "    <tr>\n",
       "      <th>133</th>\n",
       "      <td>19657.4</td>\n",
       "    </tr>\n",
       "  </tbody>\n",
       "</table>\n",
       "<p>134 rows × 1 columns</p>\n",
       "</div>"
      ],
      "text/plain": [
       "     Eggs_Sold\n",
       "0        300.0\n",
       "1        450.0\n",
       "2        538.0\n",
       "3        756.0\n",
       "4        875.0\n",
       "..         ...\n",
       "129    19075.0\n",
       "130    19220.6\n",
       "131    19366.2\n",
       "132    19511.8\n",
       "133    19657.4\n",
       "\n",
       "[134 rows x 1 columns]"
      ]
     },
     "execution_count": 17,
     "metadata": {},
     "output_type": "execute_result"
    }
   ],
   "source": [
    "y1"
   ]
  },
  {
   "cell_type": "code",
   "execution_count": 18,
   "id": "e9ab08ab",
   "metadata": {},
   "outputs": [
    {
     "data": {
      "text/plain": [
       "134"
      ]
     },
     "execution_count": 18,
     "metadata": {},
     "output_type": "execute_result"
    }
   ],
   "source": [
    "len(y1)"
   ]
  },
  {
   "cell_type": "code",
   "execution_count": 19,
   "id": "8f0e60e4",
   "metadata": {},
   "outputs": [
    {
     "data": {
      "text/html": [
       "<div>\n",
       "<style scoped>\n",
       "    .dataframe tbody tr th:only-of-type {\n",
       "        vertical-align: middle;\n",
       "    }\n",
       "\n",
       "    .dataframe tbody tr th {\n",
       "        vertical-align: top;\n",
       "    }\n",
       "\n",
       "    .dataframe thead th {\n",
       "        text-align: right;\n",
       "    }\n",
       "</style>\n",
       "<table border=\"1\" class=\"dataframe\">\n",
       "  <thead>\n",
       "    <tr style=\"text-align: right;\">\n",
       "      <th></th>\n",
       "      <th>Eggs_Sold</th>\n",
       "    </tr>\n",
       "  </thead>\n",
       "  <tbody>\n",
       "    <tr>\n",
       "      <th>0</th>\n",
       "      <td>300.0</td>\n",
       "    </tr>\n",
       "    <tr>\n",
       "      <th>1</th>\n",
       "      <td>450.0</td>\n",
       "    </tr>\n",
       "  </tbody>\n",
       "</table>\n",
       "</div>"
      ],
      "text/plain": [
       "   Eggs_Sold\n",
       "0      300.0\n",
       "1      450.0"
      ]
     },
     "execution_count": 19,
     "metadata": {},
     "output_type": "execute_result"
    }
   ],
   "source": [
    "y1.loc[0:1]"
   ]
  },
  {
   "cell_type": "code",
   "execution_count": 20,
   "id": "5676d530",
   "metadata": {},
   "outputs": [],
   "source": [
    "import numpy as np"
   ]
  },
  {
   "cell_type": "code",
   "execution_count": 21,
   "id": "93e05d32",
   "metadata": {},
   "outputs": [],
   "source": [
    "y=np.array(y1)"
   ]
  },
  {
   "cell_type": "code",
   "execution_count": 22,
   "id": "c3ecb559",
   "metadata": {},
   "outputs": [
    {
     "data": {
      "text/plain": [
       "array([[  300. ],\n",
       "       [  450. ],\n",
       "       [  538. ],\n",
       "       [  756. ],\n",
       "       [  875. ],\n",
       "       [ 1020.6],\n",
       "       [ 1166.2],\n",
       "       [ 1311.8],\n",
       "       [ 1457.4],\n",
       "       [ 1603. ],\n",
       "       [ 1748.6],\n",
       "       [ 1894.2],\n",
       "       [ 2039.8],\n",
       "       [ 2185.4],\n",
       "       [ 2331. ],\n",
       "       [ 2476.6],\n",
       "       [ 2622.2],\n",
       "       [ 2767.8],\n",
       "       [ 2913.4],\n",
       "       [ 3059. ],\n",
       "       [ 3204.6],\n",
       "       [ 3350.2],\n",
       "       [ 3495.8],\n",
       "       [ 3641.4],\n",
       "       [ 3787. ],\n",
       "       [ 3932.6],\n",
       "       [ 4078.2],\n",
       "       [ 4223.8],\n",
       "       [ 4369.4],\n",
       "       [ 4515. ],\n",
       "       [ 4660.6],\n",
       "       [ 4806.2],\n",
       "       [ 4951.8],\n",
       "       [ 5097.4],\n",
       "       [ 5243. ],\n",
       "       [ 5388.6],\n",
       "       [ 5534.2],\n",
       "       [ 5679.8],\n",
       "       [ 5825.4],\n",
       "       [ 5971. ],\n",
       "       [ 6116.6],\n",
       "       [ 6262.2],\n",
       "       [ 6407.8],\n",
       "       [ 6553.4],\n",
       "       [ 6699. ],\n",
       "       [ 6844.6],\n",
       "       [ 6990.2],\n",
       "       [ 7135.8],\n",
       "       [ 7281.4],\n",
       "       [ 7427. ],\n",
       "       [ 7572.6],\n",
       "       [ 7718.2],\n",
       "       [ 7863.8],\n",
       "       [ 8009.4],\n",
       "       [ 8155. ],\n",
       "       [ 8300.6],\n",
       "       [ 8446.2],\n",
       "       [ 8591.8],\n",
       "       [ 8737.4],\n",
       "       [ 8883. ],\n",
       "       [ 9028.6],\n",
       "       [ 9174.2],\n",
       "       [ 9319.8],\n",
       "       [ 9465.4],\n",
       "       [ 9611. ],\n",
       "       [ 9756.6],\n",
       "       [ 9902.2],\n",
       "       [10047.8],\n",
       "       [10193.4],\n",
       "       [10339. ],\n",
       "       [10484.6],\n",
       "       [10630.2],\n",
       "       [10775.8],\n",
       "       [10921.4],\n",
       "       [11067. ],\n",
       "       [11212.6],\n",
       "       [11358.2],\n",
       "       [11503.8],\n",
       "       [11649.4],\n",
       "       [11795. ],\n",
       "       [11940.6],\n",
       "       [12086.2],\n",
       "       [12231.8],\n",
       "       [12377.4],\n",
       "       [12523. ],\n",
       "       [12668.6],\n",
       "       [12814.2],\n",
       "       [12959.8],\n",
       "       [13105.4],\n",
       "       [13251. ],\n",
       "       [13396.6],\n",
       "       [13542.2],\n",
       "       [13687.8],\n",
       "       [13833.4],\n",
       "       [13979. ],\n",
       "       [14124.6],\n",
       "       [14270.2],\n",
       "       [14415.8],\n",
       "       [14561.4],\n",
       "       [14707. ],\n",
       "       [14852.6],\n",
       "       [14998.2],\n",
       "       [15143.8],\n",
       "       [15289.4],\n",
       "       [15435. ],\n",
       "       [15580.6],\n",
       "       [15726.2],\n",
       "       [15871.8],\n",
       "       [16017.4],\n",
       "       [16163. ],\n",
       "       [16308.6],\n",
       "       [16454.2],\n",
       "       [16599.8],\n",
       "       [16745.4],\n",
       "       [16891. ],\n",
       "       [17036.6],\n",
       "       [17182.2],\n",
       "       [17327.8],\n",
       "       [17473.4],\n",
       "       [17619. ],\n",
       "       [17764.6],\n",
       "       [17910.2],\n",
       "       [18055.8],\n",
       "       [18201.4],\n",
       "       [18347. ],\n",
       "       [18492.6],\n",
       "       [18638.2],\n",
       "       [18783.8],\n",
       "       [18929.4],\n",
       "       [19075. ],\n",
       "       [19220.6],\n",
       "       [19366.2],\n",
       "       [19511.8],\n",
       "       [19657.4]])"
      ]
     },
     "execution_count": 22,
     "metadata": {},
     "output_type": "execute_result"
    }
   ],
   "source": [
    "y"
   ]
  },
  {
   "cell_type": "code",
   "execution_count": 23,
   "id": "66480cd7",
   "metadata": {},
   "outputs": [
    {
     "data": {
      "text/plain": [
       "[array([300.]),\n",
       " array([300.]),\n",
       " array([345.]),\n",
       " array([402.9]),\n",
       " array([508.83]),\n",
       " array([618.681]),\n",
       " array([739.2567]),\n",
       " array([867.33969]),\n",
       " array([1000.677783]),\n",
       " array([1137.6944481]),\n",
       " array([1277.28611367]),\n",
       " array([1418.68027957]),\n",
       " array([1561.3361957]),\n",
       " array([1704.87533699]),\n",
       " array([1849.03273589]),\n",
       " array([1993.62291512]),\n",
       " array([2138.51604059]),\n",
       " array([2283.62122841]),\n",
       " array([2428.87485989]),\n",
       " array([2574.23240192]),\n",
       " array([2719.66268134]),\n",
       " array([2865.14387694]),\n",
       " array([3010.66071386]),\n",
       " array([3156.2024997]),\n",
       " array([3301.76174979]),\n",
       " array([3447.33322485]),\n",
       " array([3592.9132574]),\n",
       " array([3738.49928018]),\n",
       " array([3884.08949612]),\n",
       " array([4029.68264729]),\n",
       " array([4175.2778531]),\n",
       " array([4320.87449717]),\n",
       " array([4466.47214802]),\n",
       " array([4612.07050361]),\n",
       " array([4757.66935253]),\n",
       " array([4903.26854677]),\n",
       " array([5048.86798274]),\n",
       " array([5194.46758792]),\n",
       " array([5340.06731154]),\n",
       " array([5485.66711808]),\n",
       " array([5631.26698266]),\n",
       " array([5776.86688786]),\n",
       " array([5922.4668215]),\n",
       " array([6068.06677505]),\n",
       " array([6213.66674254]),\n",
       " array([6359.26671977]),\n",
       " array([6504.86670384]),\n",
       " array([6650.46669269]),\n",
       " array([6796.06668488]),\n",
       " array([6941.66667942]),\n",
       " array([7087.26667559]),\n",
       " array([7232.86667291]),\n",
       " array([7378.46667104]),\n",
       " array([7524.06666973]),\n",
       " array([7669.66666881]),\n",
       " array([7815.26666817]),\n",
       " array([7960.86666772]),\n",
       " array([8106.4666674]),\n",
       " array([8252.06666718]),\n",
       " array([8397.66666703]),\n",
       " array([8543.26666692]),\n",
       " array([8688.86666684]),\n",
       " array([8834.46666679]),\n",
       " array([8980.06666675]),\n",
       " array([9125.66666673]),\n",
       " array([9271.26666671]),\n",
       " array([9416.8666667]),\n",
       " array([9562.46666669]),\n",
       " array([9708.06666668]),\n",
       " array([9853.66666668]),\n",
       " array([9999.26666667]),\n",
       " array([10144.86666667]),\n",
       " array([10290.46666667]),\n",
       " array([10436.06666667]),\n",
       " array([10581.66666667]),\n",
       " array([10727.26666667]),\n",
       " array([10872.86666667]),\n",
       " array([11018.46666667]),\n",
       " array([11164.06666667]),\n",
       " array([11309.66666667]),\n",
       " array([11455.26666667]),\n",
       " array([11600.86666667]),\n",
       " array([11746.46666667]),\n",
       " array([11892.06666667]),\n",
       " array([12037.66666667]),\n",
       " array([12183.26666667]),\n",
       " array([12328.86666667]),\n",
       " array([12474.46666667]),\n",
       " array([12620.06666667]),\n",
       " array([12765.66666667]),\n",
       " array([12911.26666667]),\n",
       " array([13056.86666667]),\n",
       " array([13202.46666667]),\n",
       " array([13348.06666667]),\n",
       " array([13493.66666667]),\n",
       " array([13639.26666667]),\n",
       " array([13784.86666667]),\n",
       " array([13930.46666667]),\n",
       " array([14076.06666667]),\n",
       " array([14221.66666667]),\n",
       " array([14367.26666667]),\n",
       " array([14512.86666667]),\n",
       " array([14658.46666667]),\n",
       " array([14804.06666667]),\n",
       " array([14949.66666667]),\n",
       " array([15095.26666667]),\n",
       " array([15240.86666667]),\n",
       " array([15386.46666667]),\n",
       " array([15532.06666667]),\n",
       " array([15677.66666667]),\n",
       " array([15823.26666667]),\n",
       " array([15968.86666667]),\n",
       " array([16114.46666667]),\n",
       " array([16260.06666667]),\n",
       " array([16405.66666667]),\n",
       " array([16551.26666667]),\n",
       " array([16696.86666667]),\n",
       " array([16842.46666667]),\n",
       " array([16988.06666667]),\n",
       " array([17133.66666667]),\n",
       " array([17279.26666667]),\n",
       " array([17424.86666667]),\n",
       " array([17570.46666667]),\n",
       " array([17716.06666667]),\n",
       " array([17861.66666667]),\n",
       " array([18007.26666667]),\n",
       " array([18152.86666667]),\n",
       " array([18298.46666667]),\n",
       " array([18444.06666667]),\n",
       " array([18589.66666667]),\n",
       " array([18735.26666667]),\n",
       " array([18880.86666667]),\n",
       " array([19026.46666667]),\n",
       " array([19172.06666667])]"
      ]
     },
     "execution_count": 23,
     "metadata": {},
     "output_type": "execute_result"
    }
   ],
   "source": [
    "forcast = [y[0]]\n",
    "alpha = .3\n",
    "\n",
    "for i in range(1, len(y)):\n",
    "    predict = alpha * y[i - 1] + (1 - alpha) * forcast[i - 1]\n",
    "    forcast.append(predict)\n",
    "\n",
    "forcast"
   ]
  },
  {
   "cell_type": "code",
   "execution_count": 24,
   "id": "0c74a5a2",
   "metadata": {},
   "outputs": [],
   "source": [
    "forecasted_sales = pd.DataFrame(forcast, columns=['forecast'])"
   ]
  },
  {
   "cell_type": "code",
   "execution_count": 25,
   "id": "894f40b9",
   "metadata": {},
   "outputs": [
    {
     "data": {
      "text/html": [
       "<div>\n",
       "<style scoped>\n",
       "    .dataframe tbody tr th:only-of-type {\n",
       "        vertical-align: middle;\n",
       "    }\n",
       "\n",
       "    .dataframe tbody tr th {\n",
       "        vertical-align: top;\n",
       "    }\n",
       "\n",
       "    .dataframe thead th {\n",
       "        text-align: right;\n",
       "    }\n",
       "</style>\n",
       "<table border=\"1\" class=\"dataframe\">\n",
       "  <thead>\n",
       "    <tr style=\"text-align: right;\">\n",
       "      <th></th>\n",
       "      <th>forecast</th>\n",
       "    </tr>\n",
       "  </thead>\n",
       "  <tbody>\n",
       "    <tr>\n",
       "      <th>0</th>\n",
       "      <td>300.000000</td>\n",
       "    </tr>\n",
       "    <tr>\n",
       "      <th>1</th>\n",
       "      <td>300.000000</td>\n",
       "    </tr>\n",
       "    <tr>\n",
       "      <th>2</th>\n",
       "      <td>345.000000</td>\n",
       "    </tr>\n",
       "    <tr>\n",
       "      <th>3</th>\n",
       "      <td>402.900000</td>\n",
       "    </tr>\n",
       "    <tr>\n",
       "      <th>4</th>\n",
       "      <td>508.830000</td>\n",
       "    </tr>\n",
       "    <tr>\n",
       "      <th>...</th>\n",
       "      <td>...</td>\n",
       "    </tr>\n",
       "    <tr>\n",
       "      <th>129</th>\n",
       "      <td>18589.666667</td>\n",
       "    </tr>\n",
       "    <tr>\n",
       "      <th>130</th>\n",
       "      <td>18735.266667</td>\n",
       "    </tr>\n",
       "    <tr>\n",
       "      <th>131</th>\n",
       "      <td>18880.866667</td>\n",
       "    </tr>\n",
       "    <tr>\n",
       "      <th>132</th>\n",
       "      <td>19026.466667</td>\n",
       "    </tr>\n",
       "    <tr>\n",
       "      <th>133</th>\n",
       "      <td>19172.066667</td>\n",
       "    </tr>\n",
       "  </tbody>\n",
       "</table>\n",
       "<p>134 rows × 1 columns</p>\n",
       "</div>"
      ],
      "text/plain": [
       "         forecast\n",
       "0      300.000000\n",
       "1      300.000000\n",
       "2      345.000000\n",
       "3      402.900000\n",
       "4      508.830000\n",
       "..            ...\n",
       "129  18589.666667\n",
       "130  18735.266667\n",
       "131  18880.866667\n",
       "132  19026.466667\n",
       "133  19172.066667\n",
       "\n",
       "[134 rows x 1 columns]"
      ]
     },
     "execution_count": 25,
     "metadata": {},
     "output_type": "execute_result"
    }
   ],
   "source": [
    "forecasted_sales"
   ]
  },
  {
   "cell_type": "code",
   "execution_count": 26,
   "id": "75c5c407",
   "metadata": {},
   "outputs": [
    {
     "data": {
      "text/html": [
       "<div>\n",
       "<style scoped>\n",
       "    .dataframe tbody tr th:only-of-type {\n",
       "        vertical-align: middle;\n",
       "    }\n",
       "\n",
       "    .dataframe tbody tr th {\n",
       "        vertical-align: top;\n",
       "    }\n",
       "\n",
       "    .dataframe thead th {\n",
       "        text-align: right;\n",
       "    }\n",
       "</style>\n",
       "<table border=\"1\" class=\"dataframe\">\n",
       "  <thead>\n",
       "    <tr style=\"text-align: right;\">\n",
       "      <th></th>\n",
       "      <th>Eggs_Sold</th>\n",
       "    </tr>\n",
       "  </thead>\n",
       "  <tbody>\n",
       "    <tr>\n",
       "      <th>0</th>\n",
       "      <td>300.0</td>\n",
       "    </tr>\n",
       "    <tr>\n",
       "      <th>1</th>\n",
       "      <td>450.0</td>\n",
       "    </tr>\n",
       "    <tr>\n",
       "      <th>2</th>\n",
       "      <td>538.0</td>\n",
       "    </tr>\n",
       "    <tr>\n",
       "      <th>3</th>\n",
       "      <td>756.0</td>\n",
       "    </tr>\n",
       "    <tr>\n",
       "      <th>4</th>\n",
       "      <td>875.0</td>\n",
       "    </tr>\n",
       "    <tr>\n",
       "      <th>...</th>\n",
       "      <td>...</td>\n",
       "    </tr>\n",
       "    <tr>\n",
       "      <th>129</th>\n",
       "      <td>19075.0</td>\n",
       "    </tr>\n",
       "    <tr>\n",
       "      <th>130</th>\n",
       "      <td>19220.6</td>\n",
       "    </tr>\n",
       "    <tr>\n",
       "      <th>131</th>\n",
       "      <td>19366.2</td>\n",
       "    </tr>\n",
       "    <tr>\n",
       "      <th>132</th>\n",
       "      <td>19511.8</td>\n",
       "    </tr>\n",
       "    <tr>\n",
       "      <th>133</th>\n",
       "      <td>19657.4</td>\n",
       "    </tr>\n",
       "  </tbody>\n",
       "</table>\n",
       "<p>134 rows × 1 columns</p>\n",
       "</div>"
      ],
      "text/plain": [
       "     Eggs_Sold\n",
       "0        300.0\n",
       "1        450.0\n",
       "2        538.0\n",
       "3        756.0\n",
       "4        875.0\n",
       "..         ...\n",
       "129    19075.0\n",
       "130    19220.6\n",
       "131    19366.2\n",
       "132    19511.8\n",
       "133    19657.4\n",
       "\n",
       "[134 rows x 1 columns]"
      ]
     },
     "execution_count": 26,
     "metadata": {},
     "output_type": "execute_result"
    }
   ],
   "source": [
    "y1"
   ]
  },
  {
   "cell_type": "code",
   "execution_count": 27,
   "id": "c0a7e3a0",
   "metadata": {},
   "outputs": [
    {
     "data": {
      "text/plain": [
       "pandas.core.frame.DataFrame"
      ]
     },
     "execution_count": 27,
     "metadata": {},
     "output_type": "execute_result"
    }
   ],
   "source": [
    "type(y1)"
   ]
  },
  {
   "cell_type": "code",
   "execution_count": 28,
   "id": "bef3e68e",
   "metadata": {},
   "outputs": [],
   "source": [
    "actual=pd.DataFrame(y1, columns=['Eggs_Sold'])\n"
   ]
  },
  {
   "cell_type": "code",
   "execution_count": 29,
   "id": "42558b39",
   "metadata": {},
   "outputs": [
    {
     "data": {
      "text/html": [
       "<div>\n",
       "<style scoped>\n",
       "    .dataframe tbody tr th:only-of-type {\n",
       "        vertical-align: middle;\n",
       "    }\n",
       "\n",
       "    .dataframe tbody tr th {\n",
       "        vertical-align: top;\n",
       "    }\n",
       "\n",
       "    .dataframe thead th {\n",
       "        text-align: right;\n",
       "    }\n",
       "</style>\n",
       "<table border=\"1\" class=\"dataframe\">\n",
       "  <thead>\n",
       "    <tr style=\"text-align: right;\">\n",
       "      <th></th>\n",
       "      <th>Eggs_Sold</th>\n",
       "    </tr>\n",
       "  </thead>\n",
       "  <tbody>\n",
       "    <tr>\n",
       "      <th>0</th>\n",
       "      <td>300.0</td>\n",
       "    </tr>\n",
       "    <tr>\n",
       "      <th>1</th>\n",
       "      <td>450.0</td>\n",
       "    </tr>\n",
       "    <tr>\n",
       "      <th>2</th>\n",
       "      <td>538.0</td>\n",
       "    </tr>\n",
       "    <tr>\n",
       "      <th>3</th>\n",
       "      <td>756.0</td>\n",
       "    </tr>\n",
       "    <tr>\n",
       "      <th>4</th>\n",
       "      <td>875.0</td>\n",
       "    </tr>\n",
       "    <tr>\n",
       "      <th>...</th>\n",
       "      <td>...</td>\n",
       "    </tr>\n",
       "    <tr>\n",
       "      <th>129</th>\n",
       "      <td>19075.0</td>\n",
       "    </tr>\n",
       "    <tr>\n",
       "      <th>130</th>\n",
       "      <td>19220.6</td>\n",
       "    </tr>\n",
       "    <tr>\n",
       "      <th>131</th>\n",
       "      <td>19366.2</td>\n",
       "    </tr>\n",
       "    <tr>\n",
       "      <th>132</th>\n",
       "      <td>19511.8</td>\n",
       "    </tr>\n",
       "    <tr>\n",
       "      <th>133</th>\n",
       "      <td>19657.4</td>\n",
       "    </tr>\n",
       "  </tbody>\n",
       "</table>\n",
       "<p>134 rows × 1 columns</p>\n",
       "</div>"
      ],
      "text/plain": [
       "     Eggs_Sold\n",
       "0        300.0\n",
       "1        450.0\n",
       "2        538.0\n",
       "3        756.0\n",
       "4        875.0\n",
       "..         ...\n",
       "129    19075.0\n",
       "130    19220.6\n",
       "131    19366.2\n",
       "132    19511.8\n",
       "133    19657.4\n",
       "\n",
       "[134 rows x 1 columns]"
      ]
     },
     "execution_count": 29,
     "metadata": {},
     "output_type": "execute_result"
    }
   ],
   "source": [
    "actual"
   ]
  },
  {
   "cell_type": "code",
   "execution_count": 30,
   "id": "66e860c5",
   "metadata": {},
   "outputs": [
    {
     "data": {
      "text/html": [
       "<div>\n",
       "<style scoped>\n",
       "    .dataframe tbody tr th:only-of-type {\n",
       "        vertical-align: middle;\n",
       "    }\n",
       "\n",
       "    .dataframe tbody tr th {\n",
       "        vertical-align: top;\n",
       "    }\n",
       "\n",
       "    .dataframe thead th {\n",
       "        text-align: right;\n",
       "    }\n",
       "</style>\n",
       "<table border=\"1\" class=\"dataframe\">\n",
       "  <thead>\n",
       "    <tr style=\"text-align: right;\">\n",
       "      <th></th>\n",
       "      <th>forecast</th>\n",
       "    </tr>\n",
       "  </thead>\n",
       "  <tbody>\n",
       "    <tr>\n",
       "      <th>0</th>\n",
       "      <td>300.000000</td>\n",
       "    </tr>\n",
       "    <tr>\n",
       "      <th>1</th>\n",
       "      <td>300.000000</td>\n",
       "    </tr>\n",
       "    <tr>\n",
       "      <th>2</th>\n",
       "      <td>345.000000</td>\n",
       "    </tr>\n",
       "    <tr>\n",
       "      <th>3</th>\n",
       "      <td>402.900000</td>\n",
       "    </tr>\n",
       "    <tr>\n",
       "      <th>4</th>\n",
       "      <td>508.830000</td>\n",
       "    </tr>\n",
       "    <tr>\n",
       "      <th>...</th>\n",
       "      <td>...</td>\n",
       "    </tr>\n",
       "    <tr>\n",
       "      <th>129</th>\n",
       "      <td>18589.666667</td>\n",
       "    </tr>\n",
       "    <tr>\n",
       "      <th>130</th>\n",
       "      <td>18735.266667</td>\n",
       "    </tr>\n",
       "    <tr>\n",
       "      <th>131</th>\n",
       "      <td>18880.866667</td>\n",
       "    </tr>\n",
       "    <tr>\n",
       "      <th>132</th>\n",
       "      <td>19026.466667</td>\n",
       "    </tr>\n",
       "    <tr>\n",
       "      <th>133</th>\n",
       "      <td>19172.066667</td>\n",
       "    </tr>\n",
       "  </tbody>\n",
       "</table>\n",
       "<p>134 rows × 1 columns</p>\n",
       "</div>"
      ],
      "text/plain": [
       "         forecast\n",
       "0      300.000000\n",
       "1      300.000000\n",
       "2      345.000000\n",
       "3      402.900000\n",
       "4      508.830000\n",
       "..            ...\n",
       "129  18589.666667\n",
       "130  18735.266667\n",
       "131  18880.866667\n",
       "132  19026.466667\n",
       "133  19172.066667\n",
       "\n",
       "[134 rows x 1 columns]"
      ]
     },
     "execution_count": 30,
     "metadata": {},
     "output_type": "execute_result"
    }
   ],
   "source": [
    "forecasted_sales"
   ]
  },
  {
   "cell_type": "code",
   "execution_count": 31,
   "id": "da339d34",
   "metadata": {},
   "outputs": [
    {
     "data": {
      "text/plain": [
       "pandas.core.frame.DataFrame"
      ]
     },
     "execution_count": 31,
     "metadata": {},
     "output_type": "execute_result"
    }
   ],
   "source": [
    "type(actual)"
   ]
  },
  {
   "cell_type": "code",
   "execution_count": 33,
   "id": "15fdb74c",
   "metadata": {},
   "outputs": [
    {
     "data": {
      "text/plain": [
       "pandas.core.frame.DataFrame"
      ]
     },
     "execution_count": 33,
     "metadata": {},
     "output_type": "execute_result"
    }
   ],
   "source": [
    "type(forecasted_sales)"
   ]
  },
  {
   "cell_type": "code",
   "execution_count": 34,
   "id": "6798fe70",
   "metadata": {},
   "outputs": [],
   "source": [
    "s=actual.loc[0:135]"
   ]
  },
  {
   "cell_type": "code",
   "execution_count": 35,
   "id": "0a31acc4",
   "metadata": {},
   "outputs": [
    {
     "data": {
      "text/html": [
       "<div>\n",
       "<style scoped>\n",
       "    .dataframe tbody tr th:only-of-type {\n",
       "        vertical-align: middle;\n",
       "    }\n",
       "\n",
       "    .dataframe tbody tr th {\n",
       "        vertical-align: top;\n",
       "    }\n",
       "\n",
       "    .dataframe thead th {\n",
       "        text-align: right;\n",
       "    }\n",
       "</style>\n",
       "<table border=\"1\" class=\"dataframe\">\n",
       "  <thead>\n",
       "    <tr style=\"text-align: right;\">\n",
       "      <th></th>\n",
       "      <th>Eggs_Sold</th>\n",
       "    </tr>\n",
       "  </thead>\n",
       "  <tbody>\n",
       "    <tr>\n",
       "      <th>0</th>\n",
       "      <td>300.0</td>\n",
       "    </tr>\n",
       "    <tr>\n",
       "      <th>1</th>\n",
       "      <td>450.0</td>\n",
       "    </tr>\n",
       "    <tr>\n",
       "      <th>2</th>\n",
       "      <td>538.0</td>\n",
       "    </tr>\n",
       "    <tr>\n",
       "      <th>3</th>\n",
       "      <td>756.0</td>\n",
       "    </tr>\n",
       "    <tr>\n",
       "      <th>4</th>\n",
       "      <td>875.0</td>\n",
       "    </tr>\n",
       "    <tr>\n",
       "      <th>...</th>\n",
       "      <td>...</td>\n",
       "    </tr>\n",
       "    <tr>\n",
       "      <th>129</th>\n",
       "      <td>19075.0</td>\n",
       "    </tr>\n",
       "    <tr>\n",
       "      <th>130</th>\n",
       "      <td>19220.6</td>\n",
       "    </tr>\n",
       "    <tr>\n",
       "      <th>131</th>\n",
       "      <td>19366.2</td>\n",
       "    </tr>\n",
       "    <tr>\n",
       "      <th>132</th>\n",
       "      <td>19511.8</td>\n",
       "    </tr>\n",
       "    <tr>\n",
       "      <th>133</th>\n",
       "      <td>19657.4</td>\n",
       "    </tr>\n",
       "  </tbody>\n",
       "</table>\n",
       "<p>134 rows × 1 columns</p>\n",
       "</div>"
      ],
      "text/plain": [
       "     Eggs_Sold\n",
       "0        300.0\n",
       "1        450.0\n",
       "2        538.0\n",
       "3        756.0\n",
       "4        875.0\n",
       "..         ...\n",
       "129    19075.0\n",
       "130    19220.6\n",
       "131    19366.2\n",
       "132    19511.8\n",
       "133    19657.4\n",
       "\n",
       "[134 rows x 1 columns]"
      ]
     },
     "execution_count": 35,
     "metadata": {},
     "output_type": "execute_result"
    }
   ],
   "source": [
    "s"
   ]
  },
  {
   "cell_type": "code",
   "execution_count": 37,
   "id": "0345a53b",
   "metadata": {},
   "outputs": [],
   "source": [
    "t=forecasted_sales.loc[0:135]"
   ]
  },
  {
   "cell_type": "code",
   "execution_count": 39,
   "id": "7dec28b0",
   "metadata": {},
   "outputs": [
    {
     "data": {
      "text/html": [
       "<div>\n",
       "<style scoped>\n",
       "    .dataframe tbody tr th:only-of-type {\n",
       "        vertical-align: middle;\n",
       "    }\n",
       "\n",
       "    .dataframe tbody tr th {\n",
       "        vertical-align: top;\n",
       "    }\n",
       "\n",
       "    .dataframe thead th {\n",
       "        text-align: right;\n",
       "    }\n",
       "</style>\n",
       "<table border=\"1\" class=\"dataframe\">\n",
       "  <thead>\n",
       "    <tr style=\"text-align: right;\">\n",
       "      <th></th>\n",
       "      <th>forecast</th>\n",
       "    </tr>\n",
       "  </thead>\n",
       "  <tbody>\n",
       "    <tr>\n",
       "      <th>0</th>\n",
       "      <td>300.000000</td>\n",
       "    </tr>\n",
       "    <tr>\n",
       "      <th>1</th>\n",
       "      <td>300.000000</td>\n",
       "    </tr>\n",
       "    <tr>\n",
       "      <th>2</th>\n",
       "      <td>345.000000</td>\n",
       "    </tr>\n",
       "    <tr>\n",
       "      <th>3</th>\n",
       "      <td>402.900000</td>\n",
       "    </tr>\n",
       "    <tr>\n",
       "      <th>4</th>\n",
       "      <td>508.830000</td>\n",
       "    </tr>\n",
       "    <tr>\n",
       "      <th>...</th>\n",
       "      <td>...</td>\n",
       "    </tr>\n",
       "    <tr>\n",
       "      <th>129</th>\n",
       "      <td>18589.666667</td>\n",
       "    </tr>\n",
       "    <tr>\n",
       "      <th>130</th>\n",
       "      <td>18735.266667</td>\n",
       "    </tr>\n",
       "    <tr>\n",
       "      <th>131</th>\n",
       "      <td>18880.866667</td>\n",
       "    </tr>\n",
       "    <tr>\n",
       "      <th>132</th>\n",
       "      <td>19026.466667</td>\n",
       "    </tr>\n",
       "    <tr>\n",
       "      <th>133</th>\n",
       "      <td>19172.066667</td>\n",
       "    </tr>\n",
       "  </tbody>\n",
       "</table>\n",
       "<p>134 rows × 1 columns</p>\n",
       "</div>"
      ],
      "text/plain": [
       "         forecast\n",
       "0      300.000000\n",
       "1      300.000000\n",
       "2      345.000000\n",
       "3      402.900000\n",
       "4      508.830000\n",
       "..            ...\n",
       "129  18589.666667\n",
       "130  18735.266667\n",
       "131  18880.866667\n",
       "132  19026.466667\n",
       "133  19172.066667\n",
       "\n",
       "[134 rows x 1 columns]"
      ]
     },
     "execution_count": 39,
     "metadata": {},
     "output_type": "execute_result"
    }
   ],
   "source": [
    "t"
   ]
  },
  {
   "cell_type": "code",
   "execution_count": 40,
   "id": "cc98195a",
   "metadata": {},
   "outputs": [],
   "source": [
    "error=pd.merge(s, t, left_index=True, right_index=True)"
   ]
  },
  {
   "cell_type": "code",
   "execution_count": 41,
   "id": "83077faf",
   "metadata": {},
   "outputs": [
    {
     "data": {
      "text/html": [
       "<div>\n",
       "<style scoped>\n",
       "    .dataframe tbody tr th:only-of-type {\n",
       "        vertical-align: middle;\n",
       "    }\n",
       "\n",
       "    .dataframe tbody tr th {\n",
       "        vertical-align: top;\n",
       "    }\n",
       "\n",
       "    .dataframe thead th {\n",
       "        text-align: right;\n",
       "    }\n",
       "</style>\n",
       "<table border=\"1\" class=\"dataframe\">\n",
       "  <thead>\n",
       "    <tr style=\"text-align: right;\">\n",
       "      <th></th>\n",
       "      <th>Eggs_Sold</th>\n",
       "      <th>forecast</th>\n",
       "    </tr>\n",
       "  </thead>\n",
       "  <tbody>\n",
       "    <tr>\n",
       "      <th>0</th>\n",
       "      <td>300.0</td>\n",
       "      <td>300.000000</td>\n",
       "    </tr>\n",
       "    <tr>\n",
       "      <th>1</th>\n",
       "      <td>450.0</td>\n",
       "      <td>300.000000</td>\n",
       "    </tr>\n",
       "    <tr>\n",
       "      <th>2</th>\n",
       "      <td>538.0</td>\n",
       "      <td>345.000000</td>\n",
       "    </tr>\n",
       "    <tr>\n",
       "      <th>3</th>\n",
       "      <td>756.0</td>\n",
       "      <td>402.900000</td>\n",
       "    </tr>\n",
       "    <tr>\n",
       "      <th>4</th>\n",
       "      <td>875.0</td>\n",
       "      <td>508.830000</td>\n",
       "    </tr>\n",
       "    <tr>\n",
       "      <th>...</th>\n",
       "      <td>...</td>\n",
       "      <td>...</td>\n",
       "    </tr>\n",
       "    <tr>\n",
       "      <th>129</th>\n",
       "      <td>19075.0</td>\n",
       "      <td>18589.666667</td>\n",
       "    </tr>\n",
       "    <tr>\n",
       "      <th>130</th>\n",
       "      <td>19220.6</td>\n",
       "      <td>18735.266667</td>\n",
       "    </tr>\n",
       "    <tr>\n",
       "      <th>131</th>\n",
       "      <td>19366.2</td>\n",
       "      <td>18880.866667</td>\n",
       "    </tr>\n",
       "    <tr>\n",
       "      <th>132</th>\n",
       "      <td>19511.8</td>\n",
       "      <td>19026.466667</td>\n",
       "    </tr>\n",
       "    <tr>\n",
       "      <th>133</th>\n",
       "      <td>19657.4</td>\n",
       "      <td>19172.066667</td>\n",
       "    </tr>\n",
       "  </tbody>\n",
       "</table>\n",
       "<p>134 rows × 2 columns</p>\n",
       "</div>"
      ],
      "text/plain": [
       "     Eggs_Sold      forecast\n",
       "0        300.0    300.000000\n",
       "1        450.0    300.000000\n",
       "2        538.0    345.000000\n",
       "3        756.0    402.900000\n",
       "4        875.0    508.830000\n",
       "..         ...           ...\n",
       "129    19075.0  18589.666667\n",
       "130    19220.6  18735.266667\n",
       "131    19366.2  18880.866667\n",
       "132    19511.8  19026.466667\n",
       "133    19657.4  19172.066667\n",
       "\n",
       "[134 rows x 2 columns]"
      ]
     },
     "execution_count": 41,
     "metadata": {},
     "output_type": "execute_result"
    }
   ],
   "source": [
    "error"
   ]
  },
  {
   "cell_type": "code",
   "execution_count": 42,
   "id": "26e9380b",
   "metadata": {},
   "outputs": [],
   "source": [
    "#Calculate MSE and MAPE"
   ]
  },
  {
   "cell_type": "code",
   "execution_count": 47,
   "id": "701366b4",
   "metadata": {},
   "outputs": [],
   "source": [
    "error['Yt-Ft'] = error['Eggs_Sold'] - error['forecast']"
   ]
  },
  {
   "cell_type": "code",
   "execution_count": 48,
   "id": "1b5794d9",
   "metadata": {},
   "outputs": [
    {
     "data": {
      "text/html": [
       "<div>\n",
       "<style scoped>\n",
       "    .dataframe tbody tr th:only-of-type {\n",
       "        vertical-align: middle;\n",
       "    }\n",
       "\n",
       "    .dataframe tbody tr th {\n",
       "        vertical-align: top;\n",
       "    }\n",
       "\n",
       "    .dataframe thead th {\n",
       "        text-align: right;\n",
       "    }\n",
       "</style>\n",
       "<table border=\"1\" class=\"dataframe\">\n",
       "  <thead>\n",
       "    <tr style=\"text-align: right;\">\n",
       "      <th></th>\n",
       "      <th>Eggs_Sold</th>\n",
       "      <th>forecast</th>\n",
       "      <th>Yt-Ft</th>\n",
       "    </tr>\n",
       "  </thead>\n",
       "  <tbody>\n",
       "    <tr>\n",
       "      <th>0</th>\n",
       "      <td>300.0</td>\n",
       "      <td>300.000000</td>\n",
       "      <td>0.000000</td>\n",
       "    </tr>\n",
       "    <tr>\n",
       "      <th>1</th>\n",
       "      <td>450.0</td>\n",
       "      <td>300.000000</td>\n",
       "      <td>150.000000</td>\n",
       "    </tr>\n",
       "    <tr>\n",
       "      <th>2</th>\n",
       "      <td>538.0</td>\n",
       "      <td>345.000000</td>\n",
       "      <td>193.000000</td>\n",
       "    </tr>\n",
       "    <tr>\n",
       "      <th>3</th>\n",
       "      <td>756.0</td>\n",
       "      <td>402.900000</td>\n",
       "      <td>353.100000</td>\n",
       "    </tr>\n",
       "    <tr>\n",
       "      <th>4</th>\n",
       "      <td>875.0</td>\n",
       "      <td>508.830000</td>\n",
       "      <td>366.170000</td>\n",
       "    </tr>\n",
       "    <tr>\n",
       "      <th>...</th>\n",
       "      <td>...</td>\n",
       "      <td>...</td>\n",
       "      <td>...</td>\n",
       "    </tr>\n",
       "    <tr>\n",
       "      <th>129</th>\n",
       "      <td>19075.0</td>\n",
       "      <td>18589.666667</td>\n",
       "      <td>485.333333</td>\n",
       "    </tr>\n",
       "    <tr>\n",
       "      <th>130</th>\n",
       "      <td>19220.6</td>\n",
       "      <td>18735.266667</td>\n",
       "      <td>485.333333</td>\n",
       "    </tr>\n",
       "    <tr>\n",
       "      <th>131</th>\n",
       "      <td>19366.2</td>\n",
       "      <td>18880.866667</td>\n",
       "      <td>485.333333</td>\n",
       "    </tr>\n",
       "    <tr>\n",
       "      <th>132</th>\n",
       "      <td>19511.8</td>\n",
       "      <td>19026.466667</td>\n",
       "      <td>485.333333</td>\n",
       "    </tr>\n",
       "    <tr>\n",
       "      <th>133</th>\n",
       "      <td>19657.4</td>\n",
       "      <td>19172.066667</td>\n",
       "      <td>485.333333</td>\n",
       "    </tr>\n",
       "  </tbody>\n",
       "</table>\n",
       "<p>134 rows × 3 columns</p>\n",
       "</div>"
      ],
      "text/plain": [
       "     Eggs_Sold      forecast       Yt-Ft\n",
       "0        300.0    300.000000    0.000000\n",
       "1        450.0    300.000000  150.000000\n",
       "2        538.0    345.000000  193.000000\n",
       "3        756.0    402.900000  353.100000\n",
       "4        875.0    508.830000  366.170000\n",
       "..         ...           ...         ...\n",
       "129    19075.0  18589.666667  485.333333\n",
       "130    19220.6  18735.266667  485.333333\n",
       "131    19366.2  18880.866667  485.333333\n",
       "132    19511.8  19026.466667  485.333333\n",
       "133    19657.4  19172.066667  485.333333\n",
       "\n",
       "[134 rows x 3 columns]"
      ]
     },
     "execution_count": 48,
     "metadata": {},
     "output_type": "execute_result"
    }
   ],
   "source": [
    "error"
   ]
  },
  {
   "cell_type": "code",
   "execution_count": 50,
   "id": "94c8ecdf",
   "metadata": {},
   "outputs": [],
   "source": [
    "error['|Yt-Ft|'] = error['Yt-Ft'].abs()"
   ]
  },
  {
   "cell_type": "code",
   "execution_count": 51,
   "id": "a719bbdc",
   "metadata": {},
   "outputs": [
    {
     "data": {
      "text/html": [
       "<div>\n",
       "<style scoped>\n",
       "    .dataframe tbody tr th:only-of-type {\n",
       "        vertical-align: middle;\n",
       "    }\n",
       "\n",
       "    .dataframe tbody tr th {\n",
       "        vertical-align: top;\n",
       "    }\n",
       "\n",
       "    .dataframe thead th {\n",
       "        text-align: right;\n",
       "    }\n",
       "</style>\n",
       "<table border=\"1\" class=\"dataframe\">\n",
       "  <thead>\n",
       "    <tr style=\"text-align: right;\">\n",
       "      <th></th>\n",
       "      <th>Eggs_Sold</th>\n",
       "      <th>forecast</th>\n",
       "      <th>Yt-Ft</th>\n",
       "      <th>|Yt-Ft|</th>\n",
       "    </tr>\n",
       "  </thead>\n",
       "  <tbody>\n",
       "    <tr>\n",
       "      <th>0</th>\n",
       "      <td>300.0</td>\n",
       "      <td>300.000000</td>\n",
       "      <td>0.000000</td>\n",
       "      <td>0.000000</td>\n",
       "    </tr>\n",
       "    <tr>\n",
       "      <th>1</th>\n",
       "      <td>450.0</td>\n",
       "      <td>300.000000</td>\n",
       "      <td>150.000000</td>\n",
       "      <td>150.000000</td>\n",
       "    </tr>\n",
       "    <tr>\n",
       "      <th>2</th>\n",
       "      <td>538.0</td>\n",
       "      <td>345.000000</td>\n",
       "      <td>193.000000</td>\n",
       "      <td>193.000000</td>\n",
       "    </tr>\n",
       "    <tr>\n",
       "      <th>3</th>\n",
       "      <td>756.0</td>\n",
       "      <td>402.900000</td>\n",
       "      <td>353.100000</td>\n",
       "      <td>353.100000</td>\n",
       "    </tr>\n",
       "    <tr>\n",
       "      <th>4</th>\n",
       "      <td>875.0</td>\n",
       "      <td>508.830000</td>\n",
       "      <td>366.170000</td>\n",
       "      <td>366.170000</td>\n",
       "    </tr>\n",
       "    <tr>\n",
       "      <th>...</th>\n",
       "      <td>...</td>\n",
       "      <td>...</td>\n",
       "      <td>...</td>\n",
       "      <td>...</td>\n",
       "    </tr>\n",
       "    <tr>\n",
       "      <th>129</th>\n",
       "      <td>19075.0</td>\n",
       "      <td>18589.666667</td>\n",
       "      <td>485.333333</td>\n",
       "      <td>485.333333</td>\n",
       "    </tr>\n",
       "    <tr>\n",
       "      <th>130</th>\n",
       "      <td>19220.6</td>\n",
       "      <td>18735.266667</td>\n",
       "      <td>485.333333</td>\n",
       "      <td>485.333333</td>\n",
       "    </tr>\n",
       "    <tr>\n",
       "      <th>131</th>\n",
       "      <td>19366.2</td>\n",
       "      <td>18880.866667</td>\n",
       "      <td>485.333333</td>\n",
       "      <td>485.333333</td>\n",
       "    </tr>\n",
       "    <tr>\n",
       "      <th>132</th>\n",
       "      <td>19511.8</td>\n",
       "      <td>19026.466667</td>\n",
       "      <td>485.333333</td>\n",
       "      <td>485.333333</td>\n",
       "    </tr>\n",
       "    <tr>\n",
       "      <th>133</th>\n",
       "      <td>19657.4</td>\n",
       "      <td>19172.066667</td>\n",
       "      <td>485.333333</td>\n",
       "      <td>485.333333</td>\n",
       "    </tr>\n",
       "  </tbody>\n",
       "</table>\n",
       "<p>134 rows × 4 columns</p>\n",
       "</div>"
      ],
      "text/plain": [
       "     Eggs_Sold      forecast       Yt-Ft     |Yt-Ft|\n",
       "0        300.0    300.000000    0.000000    0.000000\n",
       "1        450.0    300.000000  150.000000  150.000000\n",
       "2        538.0    345.000000  193.000000  193.000000\n",
       "3        756.0    402.900000  353.100000  353.100000\n",
       "4        875.0    508.830000  366.170000  366.170000\n",
       "..         ...           ...         ...         ...\n",
       "129    19075.0  18589.666667  485.333333  485.333333\n",
       "130    19220.6  18735.266667  485.333333  485.333333\n",
       "131    19366.2  18880.866667  485.333333  485.333333\n",
       "132    19511.8  19026.466667  485.333333  485.333333\n",
       "133    19657.4  19172.066667  485.333333  485.333333\n",
       "\n",
       "[134 rows x 4 columns]"
      ]
     },
     "execution_count": 51,
     "metadata": {},
     "output_type": "execute_result"
    }
   ],
   "source": [
    "error"
   ]
  },
  {
   "cell_type": "code",
   "execution_count": 52,
   "id": "0b2de968",
   "metadata": {},
   "outputs": [],
   "source": [
    "#Compute abosulute values for the Yt-Ft"
   ]
  },
  {
   "cell_type": "code",
   "execution_count": 53,
   "id": "64f3822f",
   "metadata": {},
   "outputs": [],
   "source": [
    "error['|Yt-Ft|'] = error['Yt-Ft'].abs()"
   ]
  },
  {
   "cell_type": "code",
   "execution_count": 54,
   "id": "b35919f0",
   "metadata": {},
   "outputs": [
    {
     "data": {
      "text/html": [
       "<div>\n",
       "<style scoped>\n",
       "    .dataframe tbody tr th:only-of-type {\n",
       "        vertical-align: middle;\n",
       "    }\n",
       "\n",
       "    .dataframe tbody tr th {\n",
       "        vertical-align: top;\n",
       "    }\n",
       "\n",
       "    .dataframe thead th {\n",
       "        text-align: right;\n",
       "    }\n",
       "</style>\n",
       "<table border=\"1\" class=\"dataframe\">\n",
       "  <thead>\n",
       "    <tr style=\"text-align: right;\">\n",
       "      <th></th>\n",
       "      <th>Eggs_Sold</th>\n",
       "      <th>forecast</th>\n",
       "      <th>Yt-Ft</th>\n",
       "      <th>|Yt-Ft|</th>\n",
       "    </tr>\n",
       "  </thead>\n",
       "  <tbody>\n",
       "    <tr>\n",
       "      <th>0</th>\n",
       "      <td>300.0</td>\n",
       "      <td>300.000000</td>\n",
       "      <td>0.000000</td>\n",
       "      <td>0.000000</td>\n",
       "    </tr>\n",
       "    <tr>\n",
       "      <th>1</th>\n",
       "      <td>450.0</td>\n",
       "      <td>300.000000</td>\n",
       "      <td>150.000000</td>\n",
       "      <td>150.000000</td>\n",
       "    </tr>\n",
       "    <tr>\n",
       "      <th>2</th>\n",
       "      <td>538.0</td>\n",
       "      <td>345.000000</td>\n",
       "      <td>193.000000</td>\n",
       "      <td>193.000000</td>\n",
       "    </tr>\n",
       "    <tr>\n",
       "      <th>3</th>\n",
       "      <td>756.0</td>\n",
       "      <td>402.900000</td>\n",
       "      <td>353.100000</td>\n",
       "      <td>353.100000</td>\n",
       "    </tr>\n",
       "    <tr>\n",
       "      <th>4</th>\n",
       "      <td>875.0</td>\n",
       "      <td>508.830000</td>\n",
       "      <td>366.170000</td>\n",
       "      <td>366.170000</td>\n",
       "    </tr>\n",
       "    <tr>\n",
       "      <th>...</th>\n",
       "      <td>...</td>\n",
       "      <td>...</td>\n",
       "      <td>...</td>\n",
       "      <td>...</td>\n",
       "    </tr>\n",
       "    <tr>\n",
       "      <th>129</th>\n",
       "      <td>19075.0</td>\n",
       "      <td>18589.666667</td>\n",
       "      <td>485.333333</td>\n",
       "      <td>485.333333</td>\n",
       "    </tr>\n",
       "    <tr>\n",
       "      <th>130</th>\n",
       "      <td>19220.6</td>\n",
       "      <td>18735.266667</td>\n",
       "      <td>485.333333</td>\n",
       "      <td>485.333333</td>\n",
       "    </tr>\n",
       "    <tr>\n",
       "      <th>131</th>\n",
       "      <td>19366.2</td>\n",
       "      <td>18880.866667</td>\n",
       "      <td>485.333333</td>\n",
       "      <td>485.333333</td>\n",
       "    </tr>\n",
       "    <tr>\n",
       "      <th>132</th>\n",
       "      <td>19511.8</td>\n",
       "      <td>19026.466667</td>\n",
       "      <td>485.333333</td>\n",
       "      <td>485.333333</td>\n",
       "    </tr>\n",
       "    <tr>\n",
       "      <th>133</th>\n",
       "      <td>19657.4</td>\n",
       "      <td>19172.066667</td>\n",
       "      <td>485.333333</td>\n",
       "      <td>485.333333</td>\n",
       "    </tr>\n",
       "  </tbody>\n",
       "</table>\n",
       "<p>134 rows × 4 columns</p>\n",
       "</div>"
      ],
      "text/plain": [
       "     Eggs_Sold      forecast       Yt-Ft     |Yt-Ft|\n",
       "0        300.0    300.000000    0.000000    0.000000\n",
       "1        450.0    300.000000  150.000000  150.000000\n",
       "2        538.0    345.000000  193.000000  193.000000\n",
       "3        756.0    402.900000  353.100000  353.100000\n",
       "4        875.0    508.830000  366.170000  366.170000\n",
       "..         ...           ...         ...         ...\n",
       "129    19075.0  18589.666667  485.333333  485.333333\n",
       "130    19220.6  18735.266667  485.333333  485.333333\n",
       "131    19366.2  18880.866667  485.333333  485.333333\n",
       "132    19511.8  19026.466667  485.333333  485.333333\n",
       "133    19657.4  19172.066667  485.333333  485.333333\n",
       "\n",
       "[134 rows x 4 columns]"
      ]
     },
     "execution_count": 54,
     "metadata": {},
     "output_type": "execute_result"
    }
   ],
   "source": [
    "error"
   ]
  },
  {
   "cell_type": "code",
   "execution_count": 55,
   "id": "767f5565",
   "metadata": {},
   "outputs": [],
   "source": [
    "error['|Yt-Ft|/Yt'] = error['|Yt-Ft|'] / error['Eggs_Sold']"
   ]
  },
  {
   "cell_type": "code",
   "execution_count": 56,
   "id": "194ced05",
   "metadata": {},
   "outputs": [
    {
     "data": {
      "text/html": [
       "<div>\n",
       "<style scoped>\n",
       "    .dataframe tbody tr th:only-of-type {\n",
       "        vertical-align: middle;\n",
       "    }\n",
       "\n",
       "    .dataframe tbody tr th {\n",
       "        vertical-align: top;\n",
       "    }\n",
       "\n",
       "    .dataframe thead th {\n",
       "        text-align: right;\n",
       "    }\n",
       "</style>\n",
       "<table border=\"1\" class=\"dataframe\">\n",
       "  <thead>\n",
       "    <tr style=\"text-align: right;\">\n",
       "      <th></th>\n",
       "      <th>Eggs_Sold</th>\n",
       "      <th>forecast</th>\n",
       "      <th>Yt-Ft</th>\n",
       "      <th>|Yt-Ft|</th>\n",
       "      <th>|Yt-Ft|/Yt</th>\n",
       "    </tr>\n",
       "  </thead>\n",
       "  <tbody>\n",
       "    <tr>\n",
       "      <th>0</th>\n",
       "      <td>300.0</td>\n",
       "      <td>300.000000</td>\n",
       "      <td>0.000000</td>\n",
       "      <td>0.000000</td>\n",
       "      <td>0.000000</td>\n",
       "    </tr>\n",
       "    <tr>\n",
       "      <th>1</th>\n",
       "      <td>450.0</td>\n",
       "      <td>300.000000</td>\n",
       "      <td>150.000000</td>\n",
       "      <td>150.000000</td>\n",
       "      <td>0.333333</td>\n",
       "    </tr>\n",
       "    <tr>\n",
       "      <th>2</th>\n",
       "      <td>538.0</td>\n",
       "      <td>345.000000</td>\n",
       "      <td>193.000000</td>\n",
       "      <td>193.000000</td>\n",
       "      <td>0.358736</td>\n",
       "    </tr>\n",
       "    <tr>\n",
       "      <th>3</th>\n",
       "      <td>756.0</td>\n",
       "      <td>402.900000</td>\n",
       "      <td>353.100000</td>\n",
       "      <td>353.100000</td>\n",
       "      <td>0.467063</td>\n",
       "    </tr>\n",
       "    <tr>\n",
       "      <th>4</th>\n",
       "      <td>875.0</td>\n",
       "      <td>508.830000</td>\n",
       "      <td>366.170000</td>\n",
       "      <td>366.170000</td>\n",
       "      <td>0.418480</td>\n",
       "    </tr>\n",
       "    <tr>\n",
       "      <th>...</th>\n",
       "      <td>...</td>\n",
       "      <td>...</td>\n",
       "      <td>...</td>\n",
       "      <td>...</td>\n",
       "      <td>...</td>\n",
       "    </tr>\n",
       "    <tr>\n",
       "      <th>129</th>\n",
       "      <td>19075.0</td>\n",
       "      <td>18589.666667</td>\n",
       "      <td>485.333333</td>\n",
       "      <td>485.333333</td>\n",
       "      <td>0.025443</td>\n",
       "    </tr>\n",
       "    <tr>\n",
       "      <th>130</th>\n",
       "      <td>19220.6</td>\n",
       "      <td>18735.266667</td>\n",
       "      <td>485.333333</td>\n",
       "      <td>485.333333</td>\n",
       "      <td>0.025251</td>\n",
       "    </tr>\n",
       "    <tr>\n",
       "      <th>131</th>\n",
       "      <td>19366.2</td>\n",
       "      <td>18880.866667</td>\n",
       "      <td>485.333333</td>\n",
       "      <td>485.333333</td>\n",
       "      <td>0.025061</td>\n",
       "    </tr>\n",
       "    <tr>\n",
       "      <th>132</th>\n",
       "      <td>19511.8</td>\n",
       "      <td>19026.466667</td>\n",
       "      <td>485.333333</td>\n",
       "      <td>485.333333</td>\n",
       "      <td>0.024874</td>\n",
       "    </tr>\n",
       "    <tr>\n",
       "      <th>133</th>\n",
       "      <td>19657.4</td>\n",
       "      <td>19172.066667</td>\n",
       "      <td>485.333333</td>\n",
       "      <td>485.333333</td>\n",
       "      <td>0.024690</td>\n",
       "    </tr>\n",
       "  </tbody>\n",
       "</table>\n",
       "<p>134 rows × 5 columns</p>\n",
       "</div>"
      ],
      "text/plain": [
       "     Eggs_Sold      forecast       Yt-Ft     |Yt-Ft|  |Yt-Ft|/Yt\n",
       "0        300.0    300.000000    0.000000    0.000000    0.000000\n",
       "1        450.0    300.000000  150.000000  150.000000    0.333333\n",
       "2        538.0    345.000000  193.000000  193.000000    0.358736\n",
       "3        756.0    402.900000  353.100000  353.100000    0.467063\n",
       "4        875.0    508.830000  366.170000  366.170000    0.418480\n",
       "..         ...           ...         ...         ...         ...\n",
       "129    19075.0  18589.666667  485.333333  485.333333    0.025443\n",
       "130    19220.6  18735.266667  485.333333  485.333333    0.025251\n",
       "131    19366.2  18880.866667  485.333333  485.333333    0.025061\n",
       "132    19511.8  19026.466667  485.333333  485.333333    0.024874\n",
       "133    19657.4  19172.066667  485.333333  485.333333    0.024690\n",
       "\n",
       "[134 rows x 5 columns]"
      ]
     },
     "execution_count": 56,
     "metadata": {},
     "output_type": "execute_result"
    }
   ],
   "source": [
    "error"
   ]
  },
  {
   "cell_type": "code",
   "execution_count": 57,
   "id": "f70f3403",
   "metadata": {},
   "outputs": [],
   "source": [
    "# To calculate Mean Absolute error MAE"
   ]
  },
  {
   "cell_type": "code",
   "execution_count": 58,
   "id": "04eb37b7",
   "metadata": {},
   "outputs": [
    {
     "data": {
      "text/plain": [
       "473.0762852404664"
      ]
     },
     "execution_count": 58,
     "metadata": {},
     "output_type": "execute_result"
    }
   ],
   "source": [
    "error.loc[:, '|Yt-Ft|'].mean()"
   ]
  },
  {
   "cell_type": "code",
   "execution_count": 59,
   "id": "d061f9f4",
   "metadata": {},
   "outputs": [],
   "source": [
    "#Compute Mean Absolute Percentage of Error (MAPE)"
   ]
  },
  {
   "cell_type": "code",
   "execution_count": 60,
   "id": "45e257bf",
   "metadata": {},
   "outputs": [
    {
     "data": {
      "text/plain": [
       "0.08563756551088346"
      ]
     },
     "execution_count": 60,
     "metadata": {},
     "output_type": "execute_result"
    }
   ],
   "source": [
    "error.loc[:, '|Yt-Ft|/Yt'].mean()"
   ]
  },
  {
   "cell_type": "code",
   "execution_count": 61,
   "id": "e1660863",
   "metadata": {},
   "outputs": [],
   "source": [
    "#Compute Mean Square Error"
   ]
  },
  {
   "cell_type": "code",
   "execution_count": 66,
   "id": "0edb9fc2",
   "metadata": {},
   "outputs": [],
   "source": [
    "m= error['Yt-Ft']**2"
   ]
  },
  {
   "cell_type": "raw",
   "id": "3475c7a8",
   "metadata": {},
   "source": [
    "m"
   ]
  },
  {
   "cell_type": "code",
   "execution_count": 64,
   "id": "707147d0",
   "metadata": {},
   "outputs": [
    {
     "data": {
      "text/plain": [
       "227223.95331187404"
      ]
     },
     "execution_count": 64,
     "metadata": {},
     "output_type": "execute_result"
    }
   ],
   "source": [
    "m.mean()#MSE"
   ]
  }
 ],
 "metadata": {
  "kernelspec": {
   "display_name": "Python 3 (ipykernel)",
   "language": "python",
   "name": "python3"
  },
  "language_info": {
   "codemirror_mode": {
    "name": "ipython",
    "version": 3
   },
   "file_extension": ".py",
   "mimetype": "text/x-python",
   "name": "python",
   "nbconvert_exporter": "python",
   "pygments_lexer": "ipython3",
   "version": "3.10.9"
  }
 },
 "nbformat": 4,
 "nbformat_minor": 5
}
