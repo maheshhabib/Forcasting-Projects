{
 "cells": [
  {
   "cell_type": "code",
   "execution_count": 1,
   "id": "b09ccd2b",
   "metadata": {},
   "outputs": [],
   "source": [
    "import pandas as pd"
   ]
  },
  {
   "cell_type": "code",
   "execution_count": 2,
   "id": "eeffea89",
   "metadata": {},
   "outputs": [],
   "source": [
    "dealer=pd.read_csv('eggs.csv')"
   ]
  },
  {
   "cell_type": "code",
   "execution_count": 3,
   "id": "62a71afe",
   "metadata": {},
   "outputs": [
    {
     "data": {
      "text/html": [
       "<div>\n",
       "<style scoped>\n",
       "    .dataframe tbody tr th:only-of-type {\n",
       "        vertical-align: middle;\n",
       "    }\n",
       "\n",
       "    .dataframe tbody tr th {\n",
       "        vertical-align: top;\n",
       "    }\n",
       "\n",
       "    .dataframe thead th {\n",
       "        text-align: right;\n",
       "    }\n",
       "</style>\n",
       "<table border=\"1\" class=\"dataframe\">\n",
       "  <thead>\n",
       "    <tr style=\"text-align: right;\">\n",
       "      <th></th>\n",
       "      <th>Eggs_Sold</th>\n",
       "    </tr>\n",
       "  </thead>\n",
       "  <tbody>\n",
       "    <tr>\n",
       "      <th>0</th>\n",
       "      <td>300.0</td>\n",
       "    </tr>\n",
       "    <tr>\n",
       "      <th>1</th>\n",
       "      <td>450.0</td>\n",
       "    </tr>\n",
       "    <tr>\n",
       "      <th>2</th>\n",
       "      <td>538.0</td>\n",
       "    </tr>\n",
       "    <tr>\n",
       "      <th>3</th>\n",
       "      <td>756.0</td>\n",
       "    </tr>\n",
       "    <tr>\n",
       "      <th>4</th>\n",
       "      <td>875.0</td>\n",
       "    </tr>\n",
       "    <tr>\n",
       "      <th>...</th>\n",
       "      <td>...</td>\n",
       "    </tr>\n",
       "    <tr>\n",
       "      <th>129</th>\n",
       "      <td>19075.0</td>\n",
       "    </tr>\n",
       "    <tr>\n",
       "      <th>130</th>\n",
       "      <td>19220.6</td>\n",
       "    </tr>\n",
       "    <tr>\n",
       "      <th>131</th>\n",
       "      <td>19366.2</td>\n",
       "    </tr>\n",
       "    <tr>\n",
       "      <th>132</th>\n",
       "      <td>19511.8</td>\n",
       "    </tr>\n",
       "    <tr>\n",
       "      <th>133</th>\n",
       "      <td>19657.4</td>\n",
       "    </tr>\n",
       "  </tbody>\n",
       "</table>\n",
       "<p>134 rows × 1 columns</p>\n",
       "</div>"
      ],
      "text/plain": [
       "     Eggs_Sold\n",
       "0        300.0\n",
       "1        450.0\n",
       "2        538.0\n",
       "3        756.0\n",
       "4        875.0\n",
       "..         ...\n",
       "129    19075.0\n",
       "130    19220.6\n",
       "131    19366.2\n",
       "132    19511.8\n",
       "133    19657.4\n",
       "\n",
       "[134 rows x 1 columns]"
      ]
     },
     "execution_count": 3,
     "metadata": {},
     "output_type": "execute_result"
    }
   ],
   "source": [
    "dealer"
   ]
  },
  {
   "cell_type": "code",
   "execution_count": 4,
   "id": "83c97c18",
   "metadata": {},
   "outputs": [],
   "source": [
    "#Compute 2 point Moving average and forecast the sales"
   ]
  },
  {
   "cell_type": "code",
   "execution_count": 5,
   "id": "3545b367",
   "metadata": {},
   "outputs": [],
   "source": [
    "dealer['forecasted_sales']=dealer.Eggs_Sold.rolling(2).mean()"
   ]
  },
  {
   "cell_type": "code",
   "execution_count": 6,
   "id": "ff14412c",
   "metadata": {},
   "outputs": [
    {
     "data": {
      "text/html": [
       "<div>\n",
       "<style scoped>\n",
       "    .dataframe tbody tr th:only-of-type {\n",
       "        vertical-align: middle;\n",
       "    }\n",
       "\n",
       "    .dataframe tbody tr th {\n",
       "        vertical-align: top;\n",
       "    }\n",
       "\n",
       "    .dataframe thead th {\n",
       "        text-align: right;\n",
       "    }\n",
       "</style>\n",
       "<table border=\"1\" class=\"dataframe\">\n",
       "  <thead>\n",
       "    <tr style=\"text-align: right;\">\n",
       "      <th></th>\n",
       "      <th>Eggs_Sold</th>\n",
       "      <th>forecasted_sales</th>\n",
       "    </tr>\n",
       "  </thead>\n",
       "  <tbody>\n",
       "    <tr>\n",
       "      <th>0</th>\n",
       "      <td>300.0</td>\n",
       "      <td>NaN</td>\n",
       "    </tr>\n",
       "    <tr>\n",
       "      <th>1</th>\n",
       "      <td>450.0</td>\n",
       "      <td>375.0</td>\n",
       "    </tr>\n",
       "    <tr>\n",
       "      <th>2</th>\n",
       "      <td>538.0</td>\n",
       "      <td>494.0</td>\n",
       "    </tr>\n",
       "    <tr>\n",
       "      <th>3</th>\n",
       "      <td>756.0</td>\n",
       "      <td>647.0</td>\n",
       "    </tr>\n",
       "    <tr>\n",
       "      <th>4</th>\n",
       "      <td>875.0</td>\n",
       "      <td>815.5</td>\n",
       "    </tr>\n",
       "    <tr>\n",
       "      <th>...</th>\n",
       "      <td>...</td>\n",
       "      <td>...</td>\n",
       "    </tr>\n",
       "    <tr>\n",
       "      <th>129</th>\n",
       "      <td>19075.0</td>\n",
       "      <td>19002.2</td>\n",
       "    </tr>\n",
       "    <tr>\n",
       "      <th>130</th>\n",
       "      <td>19220.6</td>\n",
       "      <td>19147.8</td>\n",
       "    </tr>\n",
       "    <tr>\n",
       "      <th>131</th>\n",
       "      <td>19366.2</td>\n",
       "      <td>19293.4</td>\n",
       "    </tr>\n",
       "    <tr>\n",
       "      <th>132</th>\n",
       "      <td>19511.8</td>\n",
       "      <td>19439.0</td>\n",
       "    </tr>\n",
       "    <tr>\n",
       "      <th>133</th>\n",
       "      <td>19657.4</td>\n",
       "      <td>19584.6</td>\n",
       "    </tr>\n",
       "  </tbody>\n",
       "</table>\n",
       "<p>134 rows × 2 columns</p>\n",
       "</div>"
      ],
      "text/plain": [
       "     Eggs_Sold  forecasted_sales\n",
       "0        300.0               NaN\n",
       "1        450.0             375.0\n",
       "2        538.0             494.0\n",
       "3        756.0             647.0\n",
       "4        875.0             815.5\n",
       "..         ...               ...\n",
       "129    19075.0           19002.2\n",
       "130    19220.6           19147.8\n",
       "131    19366.2           19293.4\n",
       "132    19511.8           19439.0\n",
       "133    19657.4           19584.6\n",
       "\n",
       "[134 rows x 2 columns]"
      ]
     },
     "execution_count": 6,
     "metadata": {},
     "output_type": "execute_result"
    }
   ],
   "source": [
    "dealer"
   ]
  },
  {
   "cell_type": "code",
   "execution_count": 7,
   "id": "14ecad14",
   "metadata": {},
   "outputs": [],
   "source": [
    "#Fill the missing value"
   ]
  },
  {
   "cell_type": "code",
   "execution_count": 8,
   "id": "10f3e3c5",
   "metadata": {},
   "outputs": [],
   "source": [
    "dealer.loc[0]=[300,375]"
   ]
  },
  {
   "cell_type": "code",
   "execution_count": 9,
   "id": "e57a0e70",
   "metadata": {},
   "outputs": [
    {
     "data": {
      "text/html": [
       "<div>\n",
       "<style scoped>\n",
       "    .dataframe tbody tr th:only-of-type {\n",
       "        vertical-align: middle;\n",
       "    }\n",
       "\n",
       "    .dataframe tbody tr th {\n",
       "        vertical-align: top;\n",
       "    }\n",
       "\n",
       "    .dataframe thead th {\n",
       "        text-align: right;\n",
       "    }\n",
       "</style>\n",
       "<table border=\"1\" class=\"dataframe\">\n",
       "  <thead>\n",
       "    <tr style=\"text-align: right;\">\n",
       "      <th></th>\n",
       "      <th>Eggs_Sold</th>\n",
       "      <th>forecasted_sales</th>\n",
       "    </tr>\n",
       "  </thead>\n",
       "  <tbody>\n",
       "    <tr>\n",
       "      <th>0</th>\n",
       "      <td>300.0</td>\n",
       "      <td>375.0</td>\n",
       "    </tr>\n",
       "    <tr>\n",
       "      <th>1</th>\n",
       "      <td>450.0</td>\n",
       "      <td>375.0</td>\n",
       "    </tr>\n",
       "    <tr>\n",
       "      <th>2</th>\n",
       "      <td>538.0</td>\n",
       "      <td>494.0</td>\n",
       "    </tr>\n",
       "    <tr>\n",
       "      <th>3</th>\n",
       "      <td>756.0</td>\n",
       "      <td>647.0</td>\n",
       "    </tr>\n",
       "    <tr>\n",
       "      <th>4</th>\n",
       "      <td>875.0</td>\n",
       "      <td>815.5</td>\n",
       "    </tr>\n",
       "    <tr>\n",
       "      <th>...</th>\n",
       "      <td>...</td>\n",
       "      <td>...</td>\n",
       "    </tr>\n",
       "    <tr>\n",
       "      <th>129</th>\n",
       "      <td>19075.0</td>\n",
       "      <td>19002.2</td>\n",
       "    </tr>\n",
       "    <tr>\n",
       "      <th>130</th>\n",
       "      <td>19220.6</td>\n",
       "      <td>19147.8</td>\n",
       "    </tr>\n",
       "    <tr>\n",
       "      <th>131</th>\n",
       "      <td>19366.2</td>\n",
       "      <td>19293.4</td>\n",
       "    </tr>\n",
       "    <tr>\n",
       "      <th>132</th>\n",
       "      <td>19511.8</td>\n",
       "      <td>19439.0</td>\n",
       "    </tr>\n",
       "    <tr>\n",
       "      <th>133</th>\n",
       "      <td>19657.4</td>\n",
       "      <td>19584.6</td>\n",
       "    </tr>\n",
       "  </tbody>\n",
       "</table>\n",
       "<p>134 rows × 2 columns</p>\n",
       "</div>"
      ],
      "text/plain": [
       "     Eggs_Sold  forecasted_sales\n",
       "0        300.0             375.0\n",
       "1        450.0             375.0\n",
       "2        538.0             494.0\n",
       "3        756.0             647.0\n",
       "4        875.0             815.5\n",
       "..         ...               ...\n",
       "129    19075.0           19002.2\n",
       "130    19220.6           19147.8\n",
       "131    19366.2           19293.4\n",
       "132    19511.8           19439.0\n",
       "133    19657.4           19584.6\n",
       "\n",
       "[134 rows x 2 columns]"
      ]
     },
     "execution_count": 9,
     "metadata": {},
     "output_type": "execute_result"
    }
   ],
   "source": [
    "dealer"
   ]
  },
  {
   "cell_type": "code",
   "execution_count": 10,
   "id": "1c95a75d",
   "metadata": {},
   "outputs": [],
   "source": [
    "# For understanding rename the columns"
   ]
  },
  {
   "cell_type": "code",
   "execution_count": 11,
   "id": "4208acfd",
   "metadata": {},
   "outputs": [],
   "source": [
    "dealer=dealer.rename(columns={'Eggs_Sold': 'actual_sales'})"
   ]
  },
  {
   "cell_type": "code",
   "execution_count": 12,
   "id": "8c015622",
   "metadata": {},
   "outputs": [
    {
     "data": {
      "text/html": [
       "<div>\n",
       "<style scoped>\n",
       "    .dataframe tbody tr th:only-of-type {\n",
       "        vertical-align: middle;\n",
       "    }\n",
       "\n",
       "    .dataframe tbody tr th {\n",
       "        vertical-align: top;\n",
       "    }\n",
       "\n",
       "    .dataframe thead th {\n",
       "        text-align: right;\n",
       "    }\n",
       "</style>\n",
       "<table border=\"1\" class=\"dataframe\">\n",
       "  <thead>\n",
       "    <tr style=\"text-align: right;\">\n",
       "      <th></th>\n",
       "      <th>actual_sales</th>\n",
       "      <th>forecasted_sales</th>\n",
       "    </tr>\n",
       "  </thead>\n",
       "  <tbody>\n",
       "    <tr>\n",
       "      <th>0</th>\n",
       "      <td>300.0</td>\n",
       "      <td>375.0</td>\n",
       "    </tr>\n",
       "    <tr>\n",
       "      <th>1</th>\n",
       "      <td>450.0</td>\n",
       "      <td>375.0</td>\n",
       "    </tr>\n",
       "    <tr>\n",
       "      <th>2</th>\n",
       "      <td>538.0</td>\n",
       "      <td>494.0</td>\n",
       "    </tr>\n",
       "    <tr>\n",
       "      <th>3</th>\n",
       "      <td>756.0</td>\n",
       "      <td>647.0</td>\n",
       "    </tr>\n",
       "    <tr>\n",
       "      <th>4</th>\n",
       "      <td>875.0</td>\n",
       "      <td>815.5</td>\n",
       "    </tr>\n",
       "    <tr>\n",
       "      <th>...</th>\n",
       "      <td>...</td>\n",
       "      <td>...</td>\n",
       "    </tr>\n",
       "    <tr>\n",
       "      <th>129</th>\n",
       "      <td>19075.0</td>\n",
       "      <td>19002.2</td>\n",
       "    </tr>\n",
       "    <tr>\n",
       "      <th>130</th>\n",
       "      <td>19220.6</td>\n",
       "      <td>19147.8</td>\n",
       "    </tr>\n",
       "    <tr>\n",
       "      <th>131</th>\n",
       "      <td>19366.2</td>\n",
       "      <td>19293.4</td>\n",
       "    </tr>\n",
       "    <tr>\n",
       "      <th>132</th>\n",
       "      <td>19511.8</td>\n",
       "      <td>19439.0</td>\n",
       "    </tr>\n",
       "    <tr>\n",
       "      <th>133</th>\n",
       "      <td>19657.4</td>\n",
       "      <td>19584.6</td>\n",
       "    </tr>\n",
       "  </tbody>\n",
       "</table>\n",
       "<p>134 rows × 2 columns</p>\n",
       "</div>"
      ],
      "text/plain": [
       "     actual_sales  forecasted_sales\n",
       "0           300.0             375.0\n",
       "1           450.0             375.0\n",
       "2           538.0             494.0\n",
       "3           756.0             647.0\n",
       "4           875.0             815.5\n",
       "..            ...               ...\n",
       "129       19075.0           19002.2\n",
       "130       19220.6           19147.8\n",
       "131       19366.2           19293.4\n",
       "132       19511.8           19439.0\n",
       "133       19657.4           19584.6\n",
       "\n",
       "[134 rows x 2 columns]"
      ]
     },
     "execution_count": 12,
     "metadata": {},
     "output_type": "execute_result"
    }
   ],
   "source": [
    "dealer"
   ]
  },
  {
   "cell_type": "code",
   "execution_count": 13,
   "id": "e4e302fa",
   "metadata": {},
   "outputs": [],
   "source": [
    "#Trend, actul  Sales Vs Forecasted Sales\n",
    "import matplotlib.pyplot as plt"
   ]
  },
  {
   "cell_type": "code",
   "execution_count": 14,
   "id": "c4b7970c",
   "metadata": {},
   "outputs": [
    {
     "data": {
      "image/png": "[encoded data removed]",
      "text/plain": [
       "<Figure size 640x480 with 1 Axes>"
      ]
     },
     "metadata": {},
     "output_type": "display_data"
    }
   ],
   "source": [
    "dealer.plot(y=['actual_sales','forecasted_sales'])\n",
    "plt.title(\"Actual Sales Vs Forecasted Sales\")\n",
    "plt.show()"
   ]
  },
  {
   "cell_type": "code",
   "execution_count": 15,
   "id": "9a6cc630",
   "metadata": {},
   "outputs": [],
   "source": [
    "#Compute differene between actual Sales and Forcasted Sales"
   ]
  },
  {
   "cell_type": "code",
   "execution_count": 16,
   "id": "a12b65b9",
   "metadata": {},
   "outputs": [],
   "source": [
    "dealer['Yt-Ft'] = dealer['actual_sales'] - dealer['forecasted_sales']"
   ]
  },
  {
   "cell_type": "code",
   "execution_count": 17,
   "id": "75746cfc",
   "metadata": {},
   "outputs": [
    {
     "data": {
      "text/html": [
       "<div>\n",
       "<style scoped>\n",
       "    .dataframe tbody tr th:only-of-type {\n",
       "        vertical-align: middle;\n",
       "    }\n",
       "\n",
       "    .dataframe tbody tr th {\n",
       "        vertical-align: top;\n",
       "    }\n",
       "\n",
       "    .dataframe thead th {\n",
       "        text-align: right;\n",
       "    }\n",
       "</style>\n",
       "<table border=\"1\" class=\"dataframe\">\n",
       "  <thead>\n",
       "    <tr style=\"text-align: right;\">\n",
       "      <th></th>\n",
       "      <th>actual_sales</th>\n",
       "      <th>forecasted_sales</th>\n",
       "      <th>Yt-Ft</th>\n",
       "    </tr>\n",
       "  </thead>\n",
       "  <tbody>\n",
       "    <tr>\n",
       "      <th>0</th>\n",
       "      <td>300.0</td>\n",
       "      <td>375.0</td>\n",
       "      <td>-75.0</td>\n",
       "    </tr>\n",
       "    <tr>\n",
       "      <th>1</th>\n",
       "      <td>450.0</td>\n",
       "      <td>375.0</td>\n",
       "      <td>75.0</td>\n",
       "    </tr>\n",
       "    <tr>\n",
       "      <th>2</th>\n",
       "      <td>538.0</td>\n",
       "      <td>494.0</td>\n",
       "      <td>44.0</td>\n",
       "    </tr>\n",
       "    <tr>\n",
       "      <th>3</th>\n",
       "      <td>756.0</td>\n",
       "      <td>647.0</td>\n",
       "      <td>109.0</td>\n",
       "    </tr>\n",
       "    <tr>\n",
       "      <th>4</th>\n",
       "      <td>875.0</td>\n",
       "      <td>815.5</td>\n",
       "      <td>59.5</td>\n",
       "    </tr>\n",
       "    <tr>\n",
       "      <th>...</th>\n",
       "      <td>...</td>\n",
       "      <td>...</td>\n",
       "      <td>...</td>\n",
       "    </tr>\n",
       "    <tr>\n",
       "      <th>129</th>\n",
       "      <td>19075.0</td>\n",
       "      <td>19002.2</td>\n",
       "      <td>72.8</td>\n",
       "    </tr>\n",
       "    <tr>\n",
       "      <th>130</th>\n",
       "      <td>19220.6</td>\n",
       "      <td>19147.8</td>\n",
       "      <td>72.8</td>\n",
       "    </tr>\n",
       "    <tr>\n",
       "      <th>131</th>\n",
       "      <td>19366.2</td>\n",
       "      <td>19293.4</td>\n",
       "      <td>72.8</td>\n",
       "    </tr>\n",
       "    <tr>\n",
       "      <th>132</th>\n",
       "      <td>19511.8</td>\n",
       "      <td>19439.0</td>\n",
       "      <td>72.8</td>\n",
       "    </tr>\n",
       "    <tr>\n",
       "      <th>133</th>\n",
       "      <td>19657.4</td>\n",
       "      <td>19584.6</td>\n",
       "      <td>72.8</td>\n",
       "    </tr>\n",
       "  </tbody>\n",
       "</table>\n",
       "<p>134 rows × 3 columns</p>\n",
       "</div>"
      ],
      "text/plain": [
       "     actual_sales  forecasted_sales  Yt-Ft\n",
       "0           300.0             375.0  -75.0\n",
       "1           450.0             375.0   75.0\n",
       "2           538.0             494.0   44.0\n",
       "3           756.0             647.0  109.0\n",
       "4           875.0             815.5   59.5\n",
       "..            ...               ...    ...\n",
       "129       19075.0           19002.2   72.8\n",
       "130       19220.6           19147.8   72.8\n",
       "131       19366.2           19293.4   72.8\n",
       "132       19511.8           19439.0   72.8\n",
       "133       19657.4           19584.6   72.8\n",
       "\n",
       "[134 rows x 3 columns]"
      ]
     },
     "execution_count": 17,
     "metadata": {},
     "output_type": "execute_result"
    }
   ],
   "source": [
    "dealer"
   ]
  },
  {
   "cell_type": "code",
   "execution_count": 18,
   "id": "9f9edc65",
   "metadata": {},
   "outputs": [],
   "source": [
    "#Compute abosulute values for the Yt-Ft"
   ]
  },
  {
   "cell_type": "code",
   "execution_count": 19,
   "id": "f2c2a13c",
   "metadata": {},
   "outputs": [],
   "source": [
    "dealer['|Yt-Ft|'] = dealer['Yt-Ft'].abs()"
   ]
  },
  {
   "cell_type": "code",
   "execution_count": 20,
   "id": "dd5d43bc",
   "metadata": {},
   "outputs": [
    {
     "data": {
      "text/html": [
       "<div>\n",
       "<style scoped>\n",
       "    .dataframe tbody tr th:only-of-type {\n",
       "        vertical-align: middle;\n",
       "    }\n",
       "\n",
       "    .dataframe tbody tr th {\n",
       "        vertical-align: top;\n",
       "    }\n",
       "\n",
       "    .dataframe thead th {\n",
       "        text-align: right;\n",
       "    }\n",
       "</style>\n",
       "<table border=\"1\" class=\"dataframe\">\n",
       "  <thead>\n",
       "    <tr style=\"text-align: right;\">\n",
       "      <th></th>\n",
       "      <th>actual_sales</th>\n",
       "      <th>forecasted_sales</th>\n",
       "      <th>Yt-Ft</th>\n",
       "      <th>|Yt-Ft|</th>\n",
       "    </tr>\n",
       "  </thead>\n",
       "  <tbody>\n",
       "    <tr>\n",
       "      <th>0</th>\n",
       "      <td>300.0</td>\n",
       "      <td>375.0</td>\n",
       "      <td>-75.0</td>\n",
       "      <td>75.0</td>\n",
       "    </tr>\n",
       "    <tr>\n",
       "      <th>1</th>\n",
       "      <td>450.0</td>\n",
       "      <td>375.0</td>\n",
       "      <td>75.0</td>\n",
       "      <td>75.0</td>\n",
       "    </tr>\n",
       "    <tr>\n",
       "      <th>2</th>\n",
       "      <td>538.0</td>\n",
       "      <td>494.0</td>\n",
       "      <td>44.0</td>\n",
       "      <td>44.0</td>\n",
       "    </tr>\n",
       "    <tr>\n",
       "      <th>3</th>\n",
       "      <td>756.0</td>\n",
       "      <td>647.0</td>\n",
       "      <td>109.0</td>\n",
       "      <td>109.0</td>\n",
       "    </tr>\n",
       "    <tr>\n",
       "      <th>4</th>\n",
       "      <td>875.0</td>\n",
       "      <td>815.5</td>\n",
       "      <td>59.5</td>\n",
       "      <td>59.5</td>\n",
       "    </tr>\n",
       "    <tr>\n",
       "      <th>...</th>\n",
       "      <td>...</td>\n",
       "      <td>...</td>\n",
       "      <td>...</td>\n",
       "      <td>...</td>\n",
       "    </tr>\n",
       "    <tr>\n",
       "      <th>129</th>\n",
       "      <td>19075.0</td>\n",
       "      <td>19002.2</td>\n",
       "      <td>72.8</td>\n",
       "      <td>72.8</td>\n",
       "    </tr>\n",
       "    <tr>\n",
       "      <th>130</th>\n",
       "      <td>19220.6</td>\n",
       "      <td>19147.8</td>\n",
       "      <td>72.8</td>\n",
       "      <td>72.8</td>\n",
       "    </tr>\n",
       "    <tr>\n",
       "      <th>131</th>\n",
       "      <td>19366.2</td>\n",
       "      <td>19293.4</td>\n",
       "      <td>72.8</td>\n",
       "      <td>72.8</td>\n",
       "    </tr>\n",
       "    <tr>\n",
       "      <th>132</th>\n",
       "      <td>19511.8</td>\n",
       "      <td>19439.0</td>\n",
       "      <td>72.8</td>\n",
       "      <td>72.8</td>\n",
       "    </tr>\n",
       "    <tr>\n",
       "      <th>133</th>\n",
       "      <td>19657.4</td>\n",
       "      <td>19584.6</td>\n",
       "      <td>72.8</td>\n",
       "      <td>72.8</td>\n",
       "    </tr>\n",
       "  </tbody>\n",
       "</table>\n",
       "<p>134 rows × 4 columns</p>\n",
       "</div>"
      ],
      "text/plain": [
       "     actual_sales  forecasted_sales  Yt-Ft  |Yt-Ft|\n",
       "0           300.0             375.0  -75.0     75.0\n",
       "1           450.0             375.0   75.0     75.0\n",
       "2           538.0             494.0   44.0     44.0\n",
       "3           756.0             647.0  109.0    109.0\n",
       "4           875.0             815.5   59.5     59.5\n",
       "..            ...               ...    ...      ...\n",
       "129       19075.0           19002.2   72.8     72.8\n",
       "130       19220.6           19147.8   72.8     72.8\n",
       "131       19366.2           19293.4   72.8     72.8\n",
       "132       19511.8           19439.0   72.8     72.8\n",
       "133       19657.4           19584.6   72.8     72.8\n",
       "\n",
       "[134 rows x 4 columns]"
      ]
     },
     "execution_count": 20,
     "metadata": {},
     "output_type": "execute_result"
    }
   ],
   "source": [
    "dealer"
   ]
  },
  {
   "cell_type": "code",
   "execution_count": 21,
   "id": "af40b74c",
   "metadata": {},
   "outputs": [],
   "source": [
    "dealer['|Yt-Ft|/Yt'] = dealer['|Yt-Ft|'] / dealer['actual_sales']"
   ]
  },
  {
   "cell_type": "code",
   "execution_count": 22,
   "id": "c0be2bc5",
   "metadata": {},
   "outputs": [
    {
     "data": {
      "text/html": [
       "<div>\n",
       "<style scoped>\n",
       "    .dataframe tbody tr th:only-of-type {\n",
       "        vertical-align: middle;\n",
       "    }\n",
       "\n",
       "    .dataframe tbody tr th {\n",
       "        vertical-align: top;\n",
       "    }\n",
       "\n",
       "    .dataframe thead th {\n",
       "        text-align: right;\n",
       "    }\n",
       "</style>\n",
       "<table border=\"1\" class=\"dataframe\">\n",
       "  <thead>\n",
       "    <tr style=\"text-align: right;\">\n",
       "      <th></th>\n",
       "      <th>actual_sales</th>\n",
       "      <th>forecasted_sales</th>\n",
       "      <th>Yt-Ft</th>\n",
       "      <th>|Yt-Ft|</th>\n",
       "      <th>|Yt-Ft|/Yt</th>\n",
       "    </tr>\n",
       "  </thead>\n",
       "  <tbody>\n",
       "    <tr>\n",
       "      <th>0</th>\n",
       "      <td>300.0</td>\n",
       "      <td>375.0</td>\n",
       "      <td>-75.0</td>\n",
       "      <td>75.0</td>\n",
       "      <td>0.250000</td>\n",
       "    </tr>\n",
       "    <tr>\n",
       "      <th>1</th>\n",
       "      <td>450.0</td>\n",
       "      <td>375.0</td>\n",
       "      <td>75.0</td>\n",
       "      <td>75.0</td>\n",
       "      <td>0.166667</td>\n",
       "    </tr>\n",
       "    <tr>\n",
       "      <th>2</th>\n",
       "      <td>538.0</td>\n",
       "      <td>494.0</td>\n",
       "      <td>44.0</td>\n",
       "      <td>44.0</td>\n",
       "      <td>0.081784</td>\n",
       "    </tr>\n",
       "    <tr>\n",
       "      <th>3</th>\n",
       "      <td>756.0</td>\n",
       "      <td>647.0</td>\n",
       "      <td>109.0</td>\n",
       "      <td>109.0</td>\n",
       "      <td>0.144180</td>\n",
       "    </tr>\n",
       "    <tr>\n",
       "      <th>4</th>\n",
       "      <td>875.0</td>\n",
       "      <td>815.5</td>\n",
       "      <td>59.5</td>\n",
       "      <td>59.5</td>\n",
       "      <td>0.068000</td>\n",
       "    </tr>\n",
       "    <tr>\n",
       "      <th>...</th>\n",
       "      <td>...</td>\n",
       "      <td>...</td>\n",
       "      <td>...</td>\n",
       "      <td>...</td>\n",
       "      <td>...</td>\n",
       "    </tr>\n",
       "    <tr>\n",
       "      <th>129</th>\n",
       "      <td>19075.0</td>\n",
       "      <td>19002.2</td>\n",
       "      <td>72.8</td>\n",
       "      <td>72.8</td>\n",
       "      <td>0.003817</td>\n",
       "    </tr>\n",
       "    <tr>\n",
       "      <th>130</th>\n",
       "      <td>19220.6</td>\n",
       "      <td>19147.8</td>\n",
       "      <td>72.8</td>\n",
       "      <td>72.8</td>\n",
       "      <td>0.003788</td>\n",
       "    </tr>\n",
       "    <tr>\n",
       "      <th>131</th>\n",
       "      <td>19366.2</td>\n",
       "      <td>19293.4</td>\n",
       "      <td>72.8</td>\n",
       "      <td>72.8</td>\n",
       "      <td>0.003759</td>\n",
       "    </tr>\n",
       "    <tr>\n",
       "      <th>132</th>\n",
       "      <td>19511.8</td>\n",
       "      <td>19439.0</td>\n",
       "      <td>72.8</td>\n",
       "      <td>72.8</td>\n",
       "      <td>0.003731</td>\n",
       "    </tr>\n",
       "    <tr>\n",
       "      <th>133</th>\n",
       "      <td>19657.4</td>\n",
       "      <td>19584.6</td>\n",
       "      <td>72.8</td>\n",
       "      <td>72.8</td>\n",
       "      <td>0.003703</td>\n",
       "    </tr>\n",
       "  </tbody>\n",
       "</table>\n",
       "<p>134 rows × 5 columns</p>\n",
       "</div>"
      ],
      "text/plain": [
       "     actual_sales  forecasted_sales  Yt-Ft  |Yt-Ft|  |Yt-Ft|/Yt\n",
       "0           300.0             375.0  -75.0     75.0    0.250000\n",
       "1           450.0             375.0   75.0     75.0    0.166667\n",
       "2           538.0             494.0   44.0     44.0    0.081784\n",
       "3           756.0             647.0  109.0    109.0    0.144180\n",
       "4           875.0             815.5   59.5     59.5    0.068000\n",
       "..            ...               ...    ...      ...         ...\n",
       "129       19075.0           19002.2   72.8     72.8    0.003817\n",
       "130       19220.6           19147.8   72.8     72.8    0.003788\n",
       "131       19366.2           19293.4   72.8     72.8    0.003759\n",
       "132       19511.8           19439.0   72.8     72.8    0.003731\n",
       "133       19657.4           19584.6   72.8     72.8    0.003703\n",
       "\n",
       "[134 rows x 5 columns]"
      ]
     },
     "execution_count": 22,
     "metadata": {},
     "output_type": "execute_result"
    }
   ],
   "source": [
    "dealer"
   ]
  },
  {
   "cell_type": "code",
   "execution_count": 23,
   "id": "0373be75",
   "metadata": {},
   "outputs": [],
   "source": [
    "# To calculate Mean Absolute error MAE"
   ]
  },
  {
   "cell_type": "code",
   "execution_count": 24,
   "id": "7ef1679a",
   "metadata": {},
   "outputs": [
    {
     "data": {
      "text/plain": [
       "72.78880597014916"
      ]
     },
     "execution_count": 24,
     "metadata": {},
     "output_type": "execute_result"
    }
   ],
   "source": [
    "dealer.loc[:, '|Yt-Ft|'].mean()"
   ]
  },
  {
   "cell_type": "code",
   "execution_count": 25,
   "id": "3663b8c8",
   "metadata": {},
   "outputs": [],
   "source": [
    "#Compute Mean Absolute Percentage of Error (MAPE)"
   ]
  },
  {
   "cell_type": "code",
   "execution_count": 26,
   "id": "cc88fc95",
   "metadata": {},
   "outputs": [
    {
     "data": {
      "text/plain": [
       "0.016627041491364476"
      ]
     },
     "execution_count": 26,
     "metadata": {},
     "output_type": "execute_result"
    }
   ],
   "source": [
    "dealer.loc[:, '|Yt-Ft|/Yt'].mean()"
   ]
  },
  {
   "cell_type": "code",
   "execution_count": 27,
   "id": "45248469",
   "metadata": {},
   "outputs": [],
   "source": [
    "#MAPE=1.6 %"
   ]
  },
  {
   "cell_type": "code",
   "execution_count": 28,
   "id": "c47fb1a3",
   "metadata": {},
   "outputs": [],
   "source": [
    "#Compute Mean Square Error"
   ]
  },
  {
   "cell_type": "code",
   "execution_count": 29,
   "id": "da53bd54",
   "metadata": {},
   "outputs": [],
   "source": [
    "m= dealer['Yt-Ft']**2"
   ]
  },
  {
   "cell_type": "code",
   "execution_count": 30,
   "id": "5d02d87c",
   "metadata": {},
   "outputs": [
    {
     "data": {
      "text/plain": [
       "0       5625.00\n",
       "1       5625.00\n",
       "2       1936.00\n",
       "3      11881.00\n",
       "4       3540.25\n",
       "         ...   \n",
       "129     5299.84\n",
       "130     5299.84\n",
       "131     5299.84\n",
       "132     5299.84\n",
       "133     5299.84\n",
       "Name: Yt-Ft, Length: 134, dtype: float64"
      ]
     },
     "execution_count": 30,
     "metadata": {},
     "output_type": "execute_result"
    }
   ],
   "source": [
    "m"
   ]
  },
  {
   "cell_type": "code",
   "execution_count": 31,
   "id": "c80bbfe6",
   "metadata": {},
   "outputs": [
    {
     "data": {
      "text/plain": [
       "5315.571716417896"
      ]
     },
     "execution_count": 31,
     "metadata": {},
     "output_type": "execute_result"
    }
   ],
   "source": [
    "m.mean()#MSE"
   ]
  },
  {
   "cell_type": "code",
   "execution_count": null,
   "id": "24c1e1f7",
   "metadata": {},
   "outputs": [],
   "source": []
  }
 ],
 "metadata": {
  "kernelspec": {
   "display_name": "Python 3 (ipykernel)",
   "language": "python",
   "name": "python3"
  },
  "language_info": {
   "codemirror_mode": {
    "name": "ipython",
    "version": 3
   },
   "file_extension": ".py",
   "mimetype": "text/x-python",
   "name": "python",
   "nbconvert_exporter": "python",
   "pygments_lexer": "ipython3",
   "version": "3.10.9"
  }
 },
 "nbformat": 4,
 "nbformat_minor": 5
}
