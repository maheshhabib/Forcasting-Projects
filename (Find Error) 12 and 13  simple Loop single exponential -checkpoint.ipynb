{
 "cells": [
  {
   "cell_type": "code",
   "execution_count": 1,
   "id": "69eb8e19",
   "metadata": {},
   "outputs": [],
   "source": [
    "import pandas as pd\n",
    "\n"
   ]
  },
  {
   "cell_type": "code",
   "execution_count": 5,
   "id": "ea5f8e20",
   "metadata": {},
   "outputs": [
    {
     "data": {
      "text/plain": [
       "[3,\n",
       " 2.9999999999999996,\n",
       " 3.5999999999999996,\n",
       " 4.619999999999999,\n",
       " 6.233999999999999]"
      ]
     },
     "execution_count": 5,
     "metadata": {},
     "output_type": "execute_result"
    }
   ],
   "source": [
    "y = [3, 5, 7, 10, 12]\n",
    "\n",
    "## Start with the first point\n",
    "forcast = [y[0]]\n",
    "alpha = .3\n",
    "\n",
    "for i in range(1, len(y)):\n",
    "    predict = alpha * y[i - 1] + (1 - alpha) * forcast[i - 1]\n",
    "    forcast.append(predict)\n",
    "\n",
    "forcast"
   ]
  },
  {
   "cell_type": "code",
   "execution_count": 4,
   "id": "6e7569f4",
   "metadata": {},
   "outputs": [
    {
     "data": {
      "text/plain": [
       "5"
      ]
     },
     "execution_count": 4,
     "metadata": {},
     "output_type": "execute_result"
    }
   ],
   "source": [
    "len(y)"
   ]
  },
  {
   "cell_type": "code",
   "execution_count": 6,
   "id": "4652721e",
   "metadata": {},
   "outputs": [
    {
     "data": {
      "text/plain": [
       "list"
      ]
     },
     "execution_count": 6,
     "metadata": {},
     "output_type": "execute_result"
    }
   ],
   "source": [
    "type(y)"
   ]
  },
  {
   "cell_type": "code",
   "execution_count": 7,
   "id": "c0fb28d3",
   "metadata": {},
   "outputs": [],
   "source": [
    "a=forcast"
   ]
  },
  {
   "cell_type": "code",
   "execution_count": 8,
   "id": "a118f1fd",
   "metadata": {},
   "outputs": [
    {
     "data": {
      "text/plain": [
       "[3,\n",
       " 2.9999999999999996,\n",
       " 3.5999999999999996,\n",
       " 4.619999999999999,\n",
       " 6.233999999999999]"
      ]
     },
     "execution_count": 8,
     "metadata": {},
     "output_type": "execute_result"
    }
   ],
   "source": [
    "a"
   ]
  },
  {
   "cell_type": "code",
   "execution_count": 9,
   "id": "ad9bce2f",
   "metadata": {},
   "outputs": [],
   "source": [
    "chetan=pd.read_csv('eggs_single_exponential.csv')"
   ]
  },
  {
   "cell_type": "code",
   "execution_count": 10,
   "id": "1e152a61",
   "metadata": {},
   "outputs": [],
   "source": [
    "y=[chetan]"
   ]
  },
  {
   "cell_type": "code",
   "execution_count": 11,
   "id": "46aab6b1",
   "metadata": {},
   "outputs": [
    {
     "data": {
      "text/plain": [
       "list"
      ]
     },
     "execution_count": 11,
     "metadata": {},
     "output_type": "execute_result"
    }
   ],
   "source": [
    "type(y)"
   ]
  },
  {
   "cell_type": "code",
   "execution_count": 55,
   "id": "c90c029f",
   "metadata": {},
   "outputs": [
    {
     "data": {
      "text/plain": [
       "[     Eggs_Sold\n",
       " 0        300.0\n",
       " 1        450.0\n",
       " 2        538.0\n",
       " 3        756.0\n",
       " 4        875.0\n",
       " ..         ...\n",
       " 129    19075.0\n",
       " 130    19220.6\n",
       " 131    19366.2\n",
       " 132    19511.8\n",
       " 133    19657.4\n",
       " \n",
       " [134 rows x 1 columns]]"
      ]
     },
     "execution_count": 55,
     "metadata": {},
     "output_type": "execute_result"
    }
   ],
   "source": [
    "y"
   ]
  },
  {
   "cell_type": "code",
   "execution_count": 12,
   "id": "c404ee69",
   "metadata": {},
   "outputs": [],
   "source": [
    "y1=pd.DataFrame(chetan,columns=['Eggs_Sold'])"
   ]
  },
  {
   "cell_type": "code",
   "execution_count": 13,
   "id": "e285e8ab",
   "metadata": {},
   "outputs": [
    {
     "data": {
      "text/html": [
       "<div>\n",
       "<style scoped>\n",
       "    .dataframe tbody tr th:only-of-type {\n",
       "        vertical-align: middle;\n",
       "    }\n",
       "\n",
       "    .dataframe tbody tr th {\n",
       "        vertical-align: top;\n",
       "    }\n",
       "\n",
       "    .dataframe thead th {\n",
       "        text-align: right;\n",
       "    }\n",
       "</style>\n",
       "<table border=\"1\" class=\"dataframe\">\n",
       "  <thead>\n",
       "    <tr style=\"text-align: right;\">\n",
       "      <th></th>\n",
       "      <th>Eggs_Sold</th>\n",
       "    </tr>\n",
       "  </thead>\n",
       "  <tbody>\n",
       "    <tr>\n",
       "      <th>0</th>\n",
       "      <td>300.0</td>\n",
       "    </tr>\n",
       "    <tr>\n",
       "      <th>1</th>\n",
       "      <td>450.0</td>\n",
       "    </tr>\n",
       "    <tr>\n",
       "      <th>2</th>\n",
       "      <td>538.0</td>\n",
       "    </tr>\n",
       "    <tr>\n",
       "      <th>3</th>\n",
       "      <td>756.0</td>\n",
       "    </tr>\n",
       "    <tr>\n",
       "      <th>4</th>\n",
       "      <td>875.0</td>\n",
       "    </tr>\n",
       "    <tr>\n",
       "      <th>...</th>\n",
       "      <td>...</td>\n",
       "    </tr>\n",
       "    <tr>\n",
       "      <th>129</th>\n",
       "      <td>19075.0</td>\n",
       "    </tr>\n",
       "    <tr>\n",
       "      <th>130</th>\n",
       "      <td>19220.6</td>\n",
       "    </tr>\n",
       "    <tr>\n",
       "      <th>131</th>\n",
       "      <td>19366.2</td>\n",
       "    </tr>\n",
       "    <tr>\n",
       "      <th>132</th>\n",
       "      <td>19511.8</td>\n",
       "    </tr>\n",
       "    <tr>\n",
       "      <th>133</th>\n",
       "      <td>19657.4</td>\n",
       "    </tr>\n",
       "  </tbody>\n",
       "</table>\n",
       "<p>134 rows × 1 columns</p>\n",
       "</div>"
      ],
      "text/plain": [
       "     Eggs_Sold\n",
       "0        300.0\n",
       "1        450.0\n",
       "2        538.0\n",
       "3        756.0\n",
       "4        875.0\n",
       "..         ...\n",
       "129    19075.0\n",
       "130    19220.6\n",
       "131    19366.2\n",
       "132    19511.8\n",
       "133    19657.4\n",
       "\n",
       "[134 rows x 1 columns]"
      ]
     },
     "execution_count": 13,
     "metadata": {},
     "output_type": "execute_result"
    }
   ],
   "source": [
    "y1"
   ]
  },
  {
   "cell_type": "code",
   "execution_count": 14,
   "id": "a58891af",
   "metadata": {},
   "outputs": [
    {
     "data": {
      "text/plain": [
       "134"
      ]
     },
     "execution_count": 14,
     "metadata": {},
     "output_type": "execute_result"
    }
   ],
   "source": [
    "len(y1)"
   ]
  },
  {
   "cell_type": "code",
   "execution_count": 31,
   "id": "14e40dbf",
   "metadata": {},
   "outputs": [
    {
     "data": {
      "text/html": [
       "<div>\n",
       "<style scoped>\n",
       "    .dataframe tbody tr th:only-of-type {\n",
       "        vertical-align: middle;\n",
       "    }\n",
       "\n",
       "    .dataframe tbody tr th {\n",
       "        vertical-align: top;\n",
       "    }\n",
       "\n",
       "    .dataframe thead th {\n",
       "        text-align: right;\n",
       "    }\n",
       "</style>\n",
       "<table border=\"1\" class=\"dataframe\">\n",
       "  <thead>\n",
       "    <tr style=\"text-align: right;\">\n",
       "      <th></th>\n",
       "      <th>Eggs_Sold</th>\n",
       "    </tr>\n",
       "  </thead>\n",
       "  <tbody>\n",
       "    <tr>\n",
       "      <th>0</th>\n",
       "      <td>300.0</td>\n",
       "    </tr>\n",
       "    <tr>\n",
       "      <th>1</th>\n",
       "      <td>450.0</td>\n",
       "    </tr>\n",
       "  </tbody>\n",
       "</table>\n",
       "</div>"
      ],
      "text/plain": [
       "   Eggs_Sold\n",
       "0      300.0\n",
       "1      450.0"
      ]
     },
     "execution_count": 31,
     "metadata": {},
     "output_type": "execute_result"
    }
   ],
   "source": [
    "y1.loc[0:1]"
   ]
  },
  {
   "cell_type": "code",
   "execution_count": 15,
   "id": "a860bdb0",
   "metadata": {},
   "outputs": [],
   "source": [
    "import numpy as np"
   ]
  },
  {
   "cell_type": "code",
   "execution_count": 41,
   "id": "f4e0c707",
   "metadata": {},
   "outputs": [],
   "source": [
    "y=np.array(y1)"
   ]
  },
  {
   "cell_type": "code",
   "execution_count": 42,
   "id": "0a23cb87",
   "metadata": {},
   "outputs": [
    {
     "data": {
      "text/plain": [
       "array([[  300. ],\n",
       "       [  450. ],\n",
       "       [  538. ],\n",
       "       [  756. ],\n",
       "       [  875. ],\n",
       "       [ 1020.6],\n",
       "       [ 1166.2],\n",
       "       [ 1311.8],\n",
       "       [ 1457.4],\n",
       "       [ 1603. ],\n",
       "       [ 1748.6],\n",
       "       [ 1894.2],\n",
       "       [ 2039.8],\n",
       "       [ 2185.4],\n",
       "       [ 2331. ],\n",
       "       [ 2476.6],\n",
       "       [ 2622.2],\n",
       "       [ 2767.8],\n",
       "       [ 2913.4],\n",
       "       [ 3059. ],\n",
       "       [ 3204.6],\n",
       "       [ 3350.2],\n",
       "       [ 3495.8],\n",
       "       [ 3641.4],\n",
       "       [ 3787. ],\n",
       "       [ 3932.6],\n",
       "       [ 4078.2],\n",
       "       [ 4223.8],\n",
       "       [ 4369.4],\n",
       "       [ 4515. ],\n",
       "       [ 4660.6],\n",
       "       [ 4806.2],\n",
       "       [ 4951.8],\n",
       "       [ 5097.4],\n",
       "       [ 5243. ],\n",
       "       [ 5388.6],\n",
       "       [ 5534.2],\n",
       "       [ 5679.8],\n",
       "       [ 5825.4],\n",
       "       [ 5971. ],\n",
       "       [ 6116.6],\n",
       "       [ 6262.2],\n",
       "       [ 6407.8],\n",
       "       [ 6553.4],\n",
       "       [ 6699. ],\n",
       "       [ 6844.6],\n",
       "       [ 6990.2],\n",
       "       [ 7135.8],\n",
       "       [ 7281.4],\n",
       "       [ 7427. ],\n",
       "       [ 7572.6],\n",
       "       [ 7718.2],\n",
       "       [ 7863.8],\n",
       "       [ 8009.4],\n",
       "       [ 8155. ],\n",
       "       [ 8300.6],\n",
       "       [ 8446.2],\n",
       "       [ 8591.8],\n",
       "       [ 8737.4],\n",
       "       [ 8883. ],\n",
       "       [ 9028.6],\n",
       "       [ 9174.2],\n",
       "       [ 9319.8],\n",
       "       [ 9465.4],\n",
       "       [ 9611. ],\n",
       "       [ 9756.6],\n",
       "       [ 9902.2],\n",
       "       [10047.8],\n",
       "       [10193.4],\n",
       "       [10339. ],\n",
       "       [10484.6],\n",
       "       [10630.2],\n",
       "       [10775.8],\n",
       "       [10921.4],\n",
       "       [11067. ],\n",
       "       [11212.6],\n",
       "       [11358.2],\n",
       "       [11503.8],\n",
       "       [11649.4],\n",
       "       [11795. ],\n",
       "       [11940.6],\n",
       "       [12086.2],\n",
       "       [12231.8],\n",
       "       [12377.4],\n",
       "       [12523. ],\n",
       "       [12668.6],\n",
       "       [12814.2],\n",
       "       [12959.8],\n",
       "       [13105.4],\n",
       "       [13251. ],\n",
       "       [13396.6],\n",
       "       [13542.2],\n",
       "       [13687.8],\n",
       "       [13833.4],\n",
       "       [13979. ],\n",
       "       [14124.6],\n",
       "       [14270.2],\n",
       "       [14415.8],\n",
       "       [14561.4],\n",
       "       [14707. ],\n",
       "       [14852.6],\n",
       "       [14998.2],\n",
       "       [15143.8],\n",
       "       [15289.4],\n",
       "       [15435. ],\n",
       "       [15580.6],\n",
       "       [15726.2],\n",
       "       [15871.8],\n",
       "       [16017.4],\n",
       "       [16163. ],\n",
       "       [16308.6],\n",
       "       [16454.2],\n",
       "       [16599.8],\n",
       "       [16745.4],\n",
       "       [16891. ],\n",
       "       [17036.6],\n",
       "       [17182.2],\n",
       "       [17327.8],\n",
       "       [17473.4],\n",
       "       [17619. ],\n",
       "       [17764.6],\n",
       "       [17910.2],\n",
       "       [18055.8],\n",
       "       [18201.4],\n",
       "       [18347. ],\n",
       "       [18492.6],\n",
       "       [18638.2],\n",
       "       [18783.8],\n",
       "       [18929.4],\n",
       "       [19075. ],\n",
       "       [19220.6],\n",
       "       [19366.2],\n",
       "       [19511.8],\n",
       "       [19657.4]])"
      ]
     },
     "execution_count": 42,
     "metadata": {},
     "output_type": "execute_result"
    }
   ],
   "source": [
    "y"
   ]
  },
  {
   "cell_type": "code",
   "execution_count": 43,
   "id": "785d069a",
   "metadata": {},
   "outputs": [
    {
     "data": {
      "text/plain": [
       "[array([300.]),\n",
       " array([300.]),\n",
       " array([345.]),\n",
       " array([402.9]),\n",
       " array([508.83]),\n",
       " array([618.681]),\n",
       " array([739.2567]),\n",
       " array([867.33969]),\n",
       " array([1000.677783]),\n",
       " array([1137.6944481]),\n",
       " array([1277.28611367]),\n",
       " array([1418.68027957]),\n",
       " array([1561.3361957]),\n",
       " array([1704.87533699]),\n",
       " array([1849.03273589]),\n",
       " array([1993.62291512]),\n",
       " array([2138.51604059]),\n",
       " array([2283.62122841]),\n",
       " array([2428.87485989]),\n",
       " array([2574.23240192]),\n",
       " array([2719.66268134]),\n",
       " array([2865.14387694]),\n",
       " array([3010.66071386]),\n",
       " array([3156.2024997]),\n",
       " array([3301.76174979]),\n",
       " array([3447.33322485]),\n",
       " array([3592.9132574]),\n",
       " array([3738.49928018]),\n",
       " array([3884.08949612]),\n",
       " array([4029.68264729]),\n",
       " array([4175.2778531]),\n",
       " array([4320.87449717]),\n",
       " array([4466.47214802]),\n",
       " array([4612.07050361]),\n",
       " array([4757.66935253]),\n",
       " array([4903.26854677]),\n",
       " array([5048.86798274]),\n",
       " array([5194.46758792]),\n",
       " array([5340.06731154]),\n",
       " array([5485.66711808]),\n",
       " array([5631.26698266]),\n",
       " array([5776.86688786]),\n",
       " array([5922.4668215]),\n",
       " array([6068.06677505]),\n",
       " array([6213.66674254]),\n",
       " array([6359.26671977]),\n",
       " array([6504.86670384]),\n",
       " array([6650.46669269]),\n",
       " array([6796.06668488]),\n",
       " array([6941.66667942]),\n",
       " array([7087.26667559]),\n",
       " array([7232.86667291]),\n",
       " array([7378.46667104]),\n",
       " array([7524.06666973]),\n",
       " array([7669.66666881]),\n",
       " array([7815.26666817]),\n",
       " array([7960.86666772]),\n",
       " array([8106.4666674]),\n",
       " array([8252.06666718]),\n",
       " array([8397.66666703]),\n",
       " array([8543.26666692]),\n",
       " array([8688.86666684]),\n",
       " array([8834.46666679]),\n",
       " array([8980.06666675]),\n",
       " array([9125.66666673]),\n",
       " array([9271.26666671]),\n",
       " array([9416.8666667]),\n",
       " array([9562.46666669]),\n",
       " array([9708.06666668]),\n",
       " array([9853.66666668]),\n",
       " array([9999.26666667]),\n",
       " array([10144.86666667]),\n",
       " array([10290.46666667]),\n",
       " array([10436.06666667]),\n",
       " array([10581.66666667]),\n",
       " array([10727.26666667]),\n",
       " array([10872.86666667]),\n",
       " array([11018.46666667]),\n",
       " array([11164.06666667]),\n",
       " array([11309.66666667]),\n",
       " array([11455.26666667]),\n",
       " array([11600.86666667]),\n",
       " array([11746.46666667]),\n",
       " array([11892.06666667]),\n",
       " array([12037.66666667]),\n",
       " array([12183.26666667]),\n",
       " array([12328.86666667]),\n",
       " array([12474.46666667]),\n",
       " array([12620.06666667]),\n",
       " array([12765.66666667]),\n",
       " array([12911.26666667]),\n",
       " array([13056.86666667]),\n",
       " array([13202.46666667]),\n",
       " array([13348.06666667]),\n",
       " array([13493.66666667]),\n",
       " array([13639.26666667]),\n",
       " array([13784.86666667]),\n",
       " array([13930.46666667]),\n",
       " array([14076.06666667]),\n",
       " array([14221.66666667]),\n",
       " array([14367.26666667]),\n",
       " array([14512.86666667]),\n",
       " array([14658.46666667]),\n",
       " array([14804.06666667]),\n",
       " array([14949.66666667]),\n",
       " array([15095.26666667]),\n",
       " array([15240.86666667]),\n",
       " array([15386.46666667]),\n",
       " array([15532.06666667]),\n",
       " array([15677.66666667]),\n",
       " array([15823.26666667]),\n",
       " array([15968.86666667]),\n",
       " array([16114.46666667]),\n",
       " array([16260.06666667]),\n",
       " array([16405.66666667]),\n",
       " array([16551.26666667]),\n",
       " array([16696.86666667]),\n",
       " array([16842.46666667]),\n",
       " array([16988.06666667]),\n",
       " array([17133.66666667]),\n",
       " array([17279.26666667]),\n",
       " array([17424.86666667]),\n",
       " array([17570.46666667]),\n",
       " array([17716.06666667]),\n",
       " array([17861.66666667]),\n",
       " array([18007.26666667]),\n",
       " array([18152.86666667]),\n",
       " array([18298.46666667]),\n",
       " array([18444.06666667]),\n",
       " array([18589.66666667]),\n",
       " array([18735.26666667]),\n",
       " array([18880.86666667]),\n",
       " array([19026.46666667]),\n",
       " array([19172.06666667])]"
      ]
     },
     "execution_count": 43,
     "metadata": {},
     "output_type": "execute_result"
    }
   ],
   "source": [
    "forcast = [y[0]]\n",
    "alpha = .3\n",
    "\n",
    "for i in range(1, len(y)):\n",
    "    predict = alpha * y[i - 1] + (1 - alpha) * forcast[i - 1]\n",
    "    forcast.append(predict)\n",
    "\n",
    "forcast"
   ]
  },
  {
   "cell_type": "code",
   "execution_count": 44,
   "id": "1cfeb2da",
   "metadata": {},
   "outputs": [],
   "source": [
    "forecasted_sales = pd.DataFrame(forcast, columns=['forecast'])"
   ]
  },
  {
   "cell_type": "code",
   "execution_count": 45,
   "id": "ac5b2118",
   "metadata": {},
   "outputs": [
    {
     "data": {
      "text/html": [
       "<div>\n",
       "<style scoped>\n",
       "    .dataframe tbody tr th:only-of-type {\n",
       "        vertical-align: middle;\n",
       "    }\n",
       "\n",
       "    .dataframe tbody tr th {\n",
       "        vertical-align: top;\n",
       "    }\n",
       "\n",
       "    .dataframe thead th {\n",
       "        text-align: right;\n",
       "    }\n",
       "</style>\n",
       "<table border=\"1\" class=\"dataframe\">\n",
       "  <thead>\n",
       "    <tr style=\"text-align: right;\">\n",
       "      <th></th>\n",
       "      <th>forecast</th>\n",
       "    </tr>\n",
       "  </thead>\n",
       "  <tbody>\n",
       "    <tr>\n",
       "      <th>0</th>\n",
       "      <td>300.000000</td>\n",
       "    </tr>\n",
       "    <tr>\n",
       "      <th>1</th>\n",
       "      <td>300.000000</td>\n",
       "    </tr>\n",
       "    <tr>\n",
       "      <th>2</th>\n",
       "      <td>345.000000</td>\n",
       "    </tr>\n",
       "    <tr>\n",
       "      <th>3</th>\n",
       "      <td>402.900000</td>\n",
       "    </tr>\n",
       "    <tr>\n",
       "      <th>4</th>\n",
       "      <td>508.830000</td>\n",
       "    </tr>\n",
       "    <tr>\n",
       "      <th>...</th>\n",
       "      <td>...</td>\n",
       "    </tr>\n",
       "    <tr>\n",
       "      <th>129</th>\n",
       "      <td>18589.666667</td>\n",
       "    </tr>\n",
       "    <tr>\n",
       "      <th>130</th>\n",
       "      <td>18735.266667</td>\n",
       "    </tr>\n",
       "    <tr>\n",
       "      <th>131</th>\n",
       "      <td>18880.866667</td>\n",
       "    </tr>\n",
       "    <tr>\n",
       "      <th>132</th>\n",
       "      <td>19026.466667</td>\n",
       "    </tr>\n",
       "    <tr>\n",
       "      <th>133</th>\n",
       "      <td>19172.066667</td>\n",
       "    </tr>\n",
       "  </tbody>\n",
       "</table>\n",
       "<p>134 rows × 1 columns</p>\n",
       "</div>"
      ],
      "text/plain": [
       "         forecast\n",
       "0      300.000000\n",
       "1      300.000000\n",
       "2      345.000000\n",
       "3      402.900000\n",
       "4      508.830000\n",
       "..            ...\n",
       "129  18589.666667\n",
       "130  18735.266667\n",
       "131  18880.866667\n",
       "132  19026.466667\n",
       "133  19172.066667\n",
       "\n",
       "[134 rows x 1 columns]"
      ]
     },
     "execution_count": 45,
     "metadata": {},
     "output_type": "execute_result"
    }
   ],
   "source": [
    "forecasted_sales"
   ]
  },
  {
   "cell_type": "code",
   "execution_count": 47,
   "id": "273bf7a9",
   "metadata": {},
   "outputs": [
    {
     "data": {
      "text/html": [
       "<div>\n",
       "<style scoped>\n",
       "    .dataframe tbody tr th:only-of-type {\n",
       "        vertical-align: middle;\n",
       "    }\n",
       "\n",
       "    .dataframe tbody tr th {\n",
       "        vertical-align: top;\n",
       "    }\n",
       "\n",
       "    .dataframe thead th {\n",
       "        text-align: right;\n",
       "    }\n",
       "</style>\n",
       "<table border=\"1\" class=\"dataframe\">\n",
       "  <thead>\n",
       "    <tr style=\"text-align: right;\">\n",
       "      <th></th>\n",
       "      <th>Eggs_Sold</th>\n",
       "    </tr>\n",
       "  </thead>\n",
       "  <tbody>\n",
       "    <tr>\n",
       "      <th>0</th>\n",
       "      <td>300.0</td>\n",
       "    </tr>\n",
       "    <tr>\n",
       "      <th>1</th>\n",
       "      <td>450.0</td>\n",
       "    </tr>\n",
       "    <tr>\n",
       "      <th>2</th>\n",
       "      <td>538.0</td>\n",
       "    </tr>\n",
       "    <tr>\n",
       "      <th>3</th>\n",
       "      <td>756.0</td>\n",
       "    </tr>\n",
       "    <tr>\n",
       "      <th>4</th>\n",
       "      <td>875.0</td>\n",
       "    </tr>\n",
       "    <tr>\n",
       "      <th>...</th>\n",
       "      <td>...</td>\n",
       "    </tr>\n",
       "    <tr>\n",
       "      <th>129</th>\n",
       "      <td>19075.0</td>\n",
       "    </tr>\n",
       "    <tr>\n",
       "      <th>130</th>\n",
       "      <td>19220.6</td>\n",
       "    </tr>\n",
       "    <tr>\n",
       "      <th>131</th>\n",
       "      <td>19366.2</td>\n",
       "    </tr>\n",
       "    <tr>\n",
       "      <th>132</th>\n",
       "      <td>19511.8</td>\n",
       "    </tr>\n",
       "    <tr>\n",
       "      <th>133</th>\n",
       "      <td>19657.4</td>\n",
       "    </tr>\n",
       "  </tbody>\n",
       "</table>\n",
       "<p>134 rows × 1 columns</p>\n",
       "</div>"
      ],
      "text/plain": [
       "     Eggs_Sold\n",
       "0        300.0\n",
       "1        450.0\n",
       "2        538.0\n",
       "3        756.0\n",
       "4        875.0\n",
       "..         ...\n",
       "129    19075.0\n",
       "130    19220.6\n",
       "131    19366.2\n",
       "132    19511.8\n",
       "133    19657.4\n",
       "\n",
       "[134 rows x 1 columns]"
      ]
     },
     "execution_count": 47,
     "metadata": {},
     "output_type": "execute_result"
    }
   ],
   "source": [
    "y1"
   ]
  },
  {
   "cell_type": "code",
   "execution_count": 53,
   "id": "10e7f13f",
   "metadata": {},
   "outputs": [
    {
     "data": {
      "text/plain": [
       "pandas.core.frame.DataFrame"
      ]
     },
     "execution_count": 53,
     "metadata": {},
     "output_type": "execute_result"
    }
   ],
   "source": [
    "type(y1)"
   ]
  },
  {
   "cell_type": "code",
   "execution_count": 54,
   "id": "1c321b5f",
   "metadata": {},
   "outputs": [],
   "source": [
    "actual=pd.DataFrame(y1, columns=['Eggs_Sold'])"
   ]
  },
  {
   "cell_type": "code",
   "execution_count": 55,
   "id": "b4bbdc5d",
   "metadata": {},
   "outputs": [
    {
     "data": {
      "text/html": [
       "<div>\n",
       "<style scoped>\n",
       "    .dataframe tbody tr th:only-of-type {\n",
       "        vertical-align: middle;\n",
       "    }\n",
       "\n",
       "    .dataframe tbody tr th {\n",
       "        vertical-align: top;\n",
       "    }\n",
       "\n",
       "    .dataframe thead th {\n",
       "        text-align: right;\n",
       "    }\n",
       "</style>\n",
       "<table border=\"1\" class=\"dataframe\">\n",
       "  <thead>\n",
       "    <tr style=\"text-align: right;\">\n",
       "      <th></th>\n",
       "      <th>Eggs_Sold</th>\n",
       "    </tr>\n",
       "  </thead>\n",
       "  <tbody>\n",
       "    <tr>\n",
       "      <th>0</th>\n",
       "      <td>300.0</td>\n",
       "    </tr>\n",
       "    <tr>\n",
       "      <th>1</th>\n",
       "      <td>450.0</td>\n",
       "    </tr>\n",
       "    <tr>\n",
       "      <th>2</th>\n",
       "      <td>538.0</td>\n",
       "    </tr>\n",
       "    <tr>\n",
       "      <th>3</th>\n",
       "      <td>756.0</td>\n",
       "    </tr>\n",
       "    <tr>\n",
       "      <th>4</th>\n",
       "      <td>875.0</td>\n",
       "    </tr>\n",
       "    <tr>\n",
       "      <th>...</th>\n",
       "      <td>...</td>\n",
       "    </tr>\n",
       "    <tr>\n",
       "      <th>129</th>\n",
       "      <td>19075.0</td>\n",
       "    </tr>\n",
       "    <tr>\n",
       "      <th>130</th>\n",
       "      <td>19220.6</td>\n",
       "    </tr>\n",
       "    <tr>\n",
       "      <th>131</th>\n",
       "      <td>19366.2</td>\n",
       "    </tr>\n",
       "    <tr>\n",
       "      <th>132</th>\n",
       "      <td>19511.8</td>\n",
       "    </tr>\n",
       "    <tr>\n",
       "      <th>133</th>\n",
       "      <td>19657.4</td>\n",
       "    </tr>\n",
       "  </tbody>\n",
       "</table>\n",
       "<p>134 rows × 1 columns</p>\n",
       "</div>"
      ],
      "text/plain": [
       "     Eggs_Sold\n",
       "0        300.0\n",
       "1        450.0\n",
       "2        538.0\n",
       "3        756.0\n",
       "4        875.0\n",
       "..         ...\n",
       "129    19075.0\n",
       "130    19220.6\n",
       "131    19366.2\n",
       "132    19511.8\n",
       "133    19657.4\n",
       "\n",
       "[134 rows x 1 columns]"
      ]
     },
     "execution_count": 55,
     "metadata": {},
     "output_type": "execute_result"
    }
   ],
   "source": [
    "actual"
   ]
  },
  {
   "cell_type": "code",
   "execution_count": 56,
   "id": "b01c2408",
   "metadata": {},
   "outputs": [
    {
     "data": {
      "text/html": [
       "<div>\n",
       "<style scoped>\n",
       "    .dataframe tbody tr th:only-of-type {\n",
       "        vertical-align: middle;\n",
       "    }\n",
       "\n",
       "    .dataframe tbody tr th {\n",
       "        vertical-align: top;\n",
       "    }\n",
       "\n",
       "    .dataframe thead th {\n",
       "        text-align: right;\n",
       "    }\n",
       "</style>\n",
       "<table border=\"1\" class=\"dataframe\">\n",
       "  <thead>\n",
       "    <tr style=\"text-align: right;\">\n",
       "      <th></th>\n",
       "      <th>forecast</th>\n",
       "    </tr>\n",
       "  </thead>\n",
       "  <tbody>\n",
       "    <tr>\n",
       "      <th>0</th>\n",
       "      <td>300.000000</td>\n",
       "    </tr>\n",
       "    <tr>\n",
       "      <th>1</th>\n",
       "      <td>300.000000</td>\n",
       "    </tr>\n",
       "    <tr>\n",
       "      <th>2</th>\n",
       "      <td>345.000000</td>\n",
       "    </tr>\n",
       "    <tr>\n",
       "      <th>3</th>\n",
       "      <td>402.900000</td>\n",
       "    </tr>\n",
       "    <tr>\n",
       "      <th>4</th>\n",
       "      <td>508.830000</td>\n",
       "    </tr>\n",
       "    <tr>\n",
       "      <th>...</th>\n",
       "      <td>...</td>\n",
       "    </tr>\n",
       "    <tr>\n",
       "      <th>129</th>\n",
       "      <td>18589.666667</td>\n",
       "    </tr>\n",
       "    <tr>\n",
       "      <th>130</th>\n",
       "      <td>18735.266667</td>\n",
       "    </tr>\n",
       "    <tr>\n",
       "      <th>131</th>\n",
       "      <td>18880.866667</td>\n",
       "    </tr>\n",
       "    <tr>\n",
       "      <th>132</th>\n",
       "      <td>19026.466667</td>\n",
       "    </tr>\n",
       "    <tr>\n",
       "      <th>133</th>\n",
       "      <td>19172.066667</td>\n",
       "    </tr>\n",
       "  </tbody>\n",
       "</table>\n",
       "<p>134 rows × 1 columns</p>\n",
       "</div>"
      ],
      "text/plain": [
       "         forecast\n",
       "0      300.000000\n",
       "1      300.000000\n",
       "2      345.000000\n",
       "3      402.900000\n",
       "4      508.830000\n",
       "..            ...\n",
       "129  18589.666667\n",
       "130  18735.266667\n",
       "131  18880.866667\n",
       "132  19026.466667\n",
       "133  19172.066667\n",
       "\n",
       "[134 rows x 1 columns]"
      ]
     },
     "execution_count": 56,
     "metadata": {},
     "output_type": "execute_result"
    }
   ],
   "source": [
    "forecasted_sales"
   ]
  },
  {
   "cell_type": "code",
   "execution_count": 119,
   "id": "20db6c4e",
   "metadata": {},
   "outputs": [
    {
     "data": {
      "text/plain": [
       "pandas.core.frame.DataFrame"
      ]
     },
     "execution_count": 119,
     "metadata": {},
     "output_type": "execute_result"
    }
   ],
   "source": [
    "type(actual)"
   ]
  },
  {
   "cell_type": "code",
   "execution_count": 120,
   "id": "a963bc73",
   "metadata": {},
   "outputs": [
    {
     "data": {
      "text/plain": [
       "pandas.core.frame.DataFrame"
      ]
     },
     "execution_count": 120,
     "metadata": {},
     "output_type": "execute_result"
    }
   ],
   "source": [
    "type(forecasted_sales)"
   ]
  },
  {
   "cell_type": "code",
   "execution_count": 57,
   "id": "060d3319",
   "metadata": {},
   "outputs": [],
   "source": [
    "s=actual.loc[0:135]"
   ]
  },
  {
   "cell_type": "code",
   "execution_count": 58,
   "id": "091f68fa",
   "metadata": {},
   "outputs": [
    {
     "data": {
      "text/html": [
       "<div>\n",
       "<style scoped>\n",
       "    .dataframe tbody tr th:only-of-type {\n",
       "        vertical-align: middle;\n",
       "    }\n",
       "\n",
       "    .dataframe tbody tr th {\n",
       "        vertical-align: top;\n",
       "    }\n",
       "\n",
       "    .dataframe thead th {\n",
       "        text-align: right;\n",
       "    }\n",
       "</style>\n",
       "<table border=\"1\" class=\"dataframe\">\n",
       "  <thead>\n",
       "    <tr style=\"text-align: right;\">\n",
       "      <th></th>\n",
       "      <th>Eggs_Sold</th>\n",
       "    </tr>\n",
       "  </thead>\n",
       "  <tbody>\n",
       "    <tr>\n",
       "      <th>0</th>\n",
       "      <td>300.0</td>\n",
       "    </tr>\n",
       "    <tr>\n",
       "      <th>1</th>\n",
       "      <td>450.0</td>\n",
       "    </tr>\n",
       "    <tr>\n",
       "      <th>2</th>\n",
       "      <td>538.0</td>\n",
       "    </tr>\n",
       "    <tr>\n",
       "      <th>3</th>\n",
       "      <td>756.0</td>\n",
       "    </tr>\n",
       "    <tr>\n",
       "      <th>4</th>\n",
       "      <td>875.0</td>\n",
       "    </tr>\n",
       "    <tr>\n",
       "      <th>...</th>\n",
       "      <td>...</td>\n",
       "    </tr>\n",
       "    <tr>\n",
       "      <th>129</th>\n",
       "      <td>19075.0</td>\n",
       "    </tr>\n",
       "    <tr>\n",
       "      <th>130</th>\n",
       "      <td>19220.6</td>\n",
       "    </tr>\n",
       "    <tr>\n",
       "      <th>131</th>\n",
       "      <td>19366.2</td>\n",
       "    </tr>\n",
       "    <tr>\n",
       "      <th>132</th>\n",
       "      <td>19511.8</td>\n",
       "    </tr>\n",
       "    <tr>\n",
       "      <th>133</th>\n",
       "      <td>19657.4</td>\n",
       "    </tr>\n",
       "  </tbody>\n",
       "</table>\n",
       "<p>134 rows × 1 columns</p>\n",
       "</div>"
      ],
      "text/plain": [
       "     Eggs_Sold\n",
       "0        300.0\n",
       "1        450.0\n",
       "2        538.0\n",
       "3        756.0\n",
       "4        875.0\n",
       "..         ...\n",
       "129    19075.0\n",
       "130    19220.6\n",
       "131    19366.2\n",
       "132    19511.8\n",
       "133    19657.4\n",
       "\n",
       "[134 rows x 1 columns]"
      ]
     },
     "execution_count": 58,
     "metadata": {},
     "output_type": "execute_result"
    }
   ],
   "source": [
    "s"
   ]
  },
  {
   "cell_type": "code",
   "execution_count": 59,
   "id": "9a2a7e2a",
   "metadata": {},
   "outputs": [],
   "source": [
    "t=forecasted_sales.loc[0:135]"
   ]
  },
  {
   "cell_type": "code",
   "execution_count": 60,
   "id": "6cd048b4",
   "metadata": {},
   "outputs": [
    {
     "data": {
      "text/html": [
       "<div>\n",
       "<style scoped>\n",
       "    .dataframe tbody tr th:only-of-type {\n",
       "        vertical-align: middle;\n",
       "    }\n",
       "\n",
       "    .dataframe tbody tr th {\n",
       "        vertical-align: top;\n",
       "    }\n",
       "\n",
       "    .dataframe thead th {\n",
       "        text-align: right;\n",
       "    }\n",
       "</style>\n",
       "<table border=\"1\" class=\"dataframe\">\n",
       "  <thead>\n",
       "    <tr style=\"text-align: right;\">\n",
       "      <th></th>\n",
       "      <th>forecast</th>\n",
       "    </tr>\n",
       "  </thead>\n",
       "  <tbody>\n",
       "    <tr>\n",
       "      <th>0</th>\n",
       "      <td>300.000000</td>\n",
       "    </tr>\n",
       "    <tr>\n",
       "      <th>1</th>\n",
       "      <td>300.000000</td>\n",
       "    </tr>\n",
       "    <tr>\n",
       "      <th>2</th>\n",
       "      <td>345.000000</td>\n",
       "    </tr>\n",
       "    <tr>\n",
       "      <th>3</th>\n",
       "      <td>402.900000</td>\n",
       "    </tr>\n",
       "    <tr>\n",
       "      <th>4</th>\n",
       "      <td>508.830000</td>\n",
       "    </tr>\n",
       "    <tr>\n",
       "      <th>...</th>\n",
       "      <td>...</td>\n",
       "    </tr>\n",
       "    <tr>\n",
       "      <th>129</th>\n",
       "      <td>18589.666667</td>\n",
       "    </tr>\n",
       "    <tr>\n",
       "      <th>130</th>\n",
       "      <td>18735.266667</td>\n",
       "    </tr>\n",
       "    <tr>\n",
       "      <th>131</th>\n",
       "      <td>18880.866667</td>\n",
       "    </tr>\n",
       "    <tr>\n",
       "      <th>132</th>\n",
       "      <td>19026.466667</td>\n",
       "    </tr>\n",
       "    <tr>\n",
       "      <th>133</th>\n",
       "      <td>19172.066667</td>\n",
       "    </tr>\n",
       "  </tbody>\n",
       "</table>\n",
       "<p>134 rows × 1 columns</p>\n",
       "</div>"
      ],
      "text/plain": [
       "         forecast\n",
       "0      300.000000\n",
       "1      300.000000\n",
       "2      345.000000\n",
       "3      402.900000\n",
       "4      508.830000\n",
       "..            ...\n",
       "129  18589.666667\n",
       "130  18735.266667\n",
       "131  18880.866667\n",
       "132  19026.466667\n",
       "133  19172.066667\n",
       "\n",
       "[134 rows x 1 columns]"
      ]
     },
     "execution_count": 60,
     "metadata": {},
     "output_type": "execute_result"
    }
   ],
   "source": [
    "t"
   ]
  },
  {
   "cell_type": "code",
   "execution_count": 61,
   "id": "8c28c2b6",
   "metadata": {},
   "outputs": [],
   "source": [
    "error=pd.merge(s, t, left_index=True, right_index=True)"
   ]
  },
  {
   "cell_type": "code",
   "execution_count": 62,
   "id": "c316274a",
   "metadata": {},
   "outputs": [
    {
     "data": {
      "text/html": [
       "<div>\n",
       "<style scoped>\n",
       "    .dataframe tbody tr th:only-of-type {\n",
       "        vertical-align: middle;\n",
       "    }\n",
       "\n",
       "    .dataframe tbody tr th {\n",
       "        vertical-align: top;\n",
       "    }\n",
       "\n",
       "    .dataframe thead th {\n",
       "        text-align: right;\n",
       "    }\n",
       "</style>\n",
       "<table border=\"1\" class=\"dataframe\">\n",
       "  <thead>\n",
       "    <tr style=\"text-align: right;\">\n",
       "      <th></th>\n",
       "      <th>Eggs_Sold</th>\n",
       "      <th>forecast</th>\n",
       "    </tr>\n",
       "  </thead>\n",
       "  <tbody>\n",
       "    <tr>\n",
       "      <th>0</th>\n",
       "      <td>300.0</td>\n",
       "      <td>300.000000</td>\n",
       "    </tr>\n",
       "    <tr>\n",
       "      <th>1</th>\n",
       "      <td>450.0</td>\n",
       "      <td>300.000000</td>\n",
       "    </tr>\n",
       "    <tr>\n",
       "      <th>2</th>\n",
       "      <td>538.0</td>\n",
       "      <td>345.000000</td>\n",
       "    </tr>\n",
       "    <tr>\n",
       "      <th>3</th>\n",
       "      <td>756.0</td>\n",
       "      <td>402.900000</td>\n",
       "    </tr>\n",
       "    <tr>\n",
       "      <th>4</th>\n",
       "      <td>875.0</td>\n",
       "      <td>508.830000</td>\n",
       "    </tr>\n",
       "    <tr>\n",
       "      <th>...</th>\n",
       "      <td>...</td>\n",
       "      <td>...</td>\n",
       "    </tr>\n",
       "    <tr>\n",
       "      <th>129</th>\n",
       "      <td>19075.0</td>\n",
       "      <td>18589.666667</td>\n",
       "    </tr>\n",
       "    <tr>\n",
       "      <th>130</th>\n",
       "      <td>19220.6</td>\n",
       "      <td>18735.266667</td>\n",
       "    </tr>\n",
       "    <tr>\n",
       "      <th>131</th>\n",
       "      <td>19366.2</td>\n",
       "      <td>18880.866667</td>\n",
       "    </tr>\n",
       "    <tr>\n",
       "      <th>132</th>\n",
       "      <td>19511.8</td>\n",
       "      <td>19026.466667</td>\n",
       "    </tr>\n",
       "    <tr>\n",
       "      <th>133</th>\n",
       "      <td>19657.4</td>\n",
       "      <td>19172.066667</td>\n",
       "    </tr>\n",
       "  </tbody>\n",
       "</table>\n",
       "<p>134 rows × 2 columns</p>\n",
       "</div>"
      ],
      "text/plain": [
       "     Eggs_Sold      forecast\n",
       "0        300.0    300.000000\n",
       "1        450.0    300.000000\n",
       "2        538.0    345.000000\n",
       "3        756.0    402.900000\n",
       "4        875.0    508.830000\n",
       "..         ...           ...\n",
       "129    19075.0  18589.666667\n",
       "130    19220.6  18735.266667\n",
       "131    19366.2  18880.866667\n",
       "132    19511.8  19026.466667\n",
       "133    19657.4  19172.066667\n",
       "\n",
       "[134 rows x 2 columns]"
      ]
     },
     "execution_count": 62,
     "metadata": {},
     "output_type": "execute_result"
    }
   ],
   "source": [
    "error"
   ]
  },
  {
   "cell_type": "code",
   "execution_count": null,
   "id": "db5881e7",
   "metadata": {},
   "outputs": [],
   "source": [
    "#Calculate MSE and MAPE"
   ]
  }
 ],
 "metadata": {
  "kernelspec": {
   "display_name": "Python 3 (ipykernel)",
   "language": "python",
   "name": "python3"
  },
  "language_info": {
   "codemirror_mode": {
    "name": "ipython",
    "version": 3
   },
   "file_extension": ".py",
   "mimetype": "text/x-python",
   "name": "python",
   "nbconvert_exporter": "python",
   "pygments_lexer": "ipython3",
   "version": "3.10.9"
  }
 },
 "nbformat": 4,
 "nbformat_minor": 5
}
